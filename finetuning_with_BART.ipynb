{
 "cells": [
  {
   "cell_type": "code",
   "execution_count": 1,
   "metadata": {
    "colab": {
     "base_uri": "https://localhost:8080/"
    },
    "collapsed": true,
    "executionInfo": {
     "elapsed": 11137,
     "status": "ok",
     "timestamp": 1732540226559,
     "user": {
      "displayName": "Chijo Nyacigak",
      "userId": "12700575378002708673"
     },
     "user_tz": -180
    },
    "id": "oQ4pUCPIrFEu",
    "jupyter": {
     "outputs_hidden": true
    },
    "outputId": "bf434e0b-3e08-40e7-b284-f55d28a29699"
   },
   "outputs": [
    {
     "name": "stdout",
     "output_type": "stream",
     "text": [
      "Requirement already satisfied: datasets in /usr/local/lib/python3.10/dist-packages (3.1.0)\n",
      "Requirement already satisfied: filelock in /usr/local/lib/python3.10/dist-packages (from datasets) (3.16.1)\n",
      "Requirement already satisfied: numpy>=1.17 in /usr/local/lib/python3.10/dist-packages (from datasets) (1.26.4)\n",
      "Requirement already satisfied: pyarrow>=15.0.0 in /usr/local/lib/python3.10/dist-packages (from datasets) (17.0.0)\n",
      "Requirement already satisfied: dill<0.3.9,>=0.3.0 in /usr/local/lib/python3.10/dist-packages (from datasets) (0.3.8)\n",
      "Requirement already satisfied: pandas in /usr/local/lib/python3.10/dist-packages (from datasets) (2.2.2)\n",
      "Requirement already satisfied: requests>=2.32.2 in /usr/local/lib/python3.10/dist-packages (from datasets) (2.32.3)\n",
      "Requirement already satisfied: tqdm>=4.66.3 in /usr/local/lib/python3.10/dist-packages (from datasets) (4.66.6)\n",
      "Requirement already satisfied: xxhash in /usr/local/lib/python3.10/dist-packages (from datasets) (3.5.0)\n",
      "Requirement already satisfied: multiprocess<0.70.17 in /usr/local/lib/python3.10/dist-packages (from datasets) (0.70.16)\n",
      "Requirement already satisfied: fsspec<=2024.9.0,>=2023.1.0 in /usr/local/lib/python3.10/dist-packages (from fsspec[http]<=2024.9.0,>=2023.1.0->datasets) (2024.9.0)\n",
      "Requirement already satisfied: aiohttp in /usr/local/lib/python3.10/dist-packages (from datasets) (3.11.2)\n",
      "Requirement already satisfied: huggingface-hub>=0.23.0 in /usr/local/lib/python3.10/dist-packages (from datasets) (0.26.2)\n",
      "Requirement already satisfied: packaging in /usr/local/lib/python3.10/dist-packages (from datasets) (24.2)\n",
      "Requirement already satisfied: pyyaml>=5.1 in /usr/local/lib/python3.10/dist-packages (from datasets) (6.0.2)\n",
      "Requirement already satisfied: aiohappyeyeballs>=2.3.0 in /usr/local/lib/python3.10/dist-packages (from aiohttp->datasets) (2.4.3)\n",
      "Requirement already satisfied: aiosignal>=1.1.2 in /usr/local/lib/python3.10/dist-packages (from aiohttp->datasets) (1.3.1)\n",
      "Requirement already satisfied: attrs>=17.3.0 in /usr/local/lib/python3.10/dist-packages (from aiohttp->datasets) (24.2.0)\n",
      "Requirement already satisfied: frozenlist>=1.1.1 in /usr/local/lib/python3.10/dist-packages (from aiohttp->datasets) (1.5.0)\n",
      "Requirement already satisfied: multidict<7.0,>=4.5 in /usr/local/lib/python3.10/dist-packages (from aiohttp->datasets) (6.1.0)\n",
      "Requirement already satisfied: propcache>=0.2.0 in /usr/local/lib/python3.10/dist-packages (from aiohttp->datasets) (0.2.0)\n",
      "Requirement already satisfied: yarl<2.0,>=1.17.0 in /usr/local/lib/python3.10/dist-packages (from aiohttp->datasets) (1.17.2)\n",
      "Requirement already satisfied: async-timeout<6.0,>=4.0 in /usr/local/lib/python3.10/dist-packages (from aiohttp->datasets) (4.0.3)\n",
      "Requirement already satisfied: typing-extensions>=3.7.4.3 in /usr/local/lib/python3.10/dist-packages (from huggingface-hub>=0.23.0->datasets) (4.12.2)\n",
      "Requirement already satisfied: charset-normalizer<4,>=2 in /usr/local/lib/python3.10/dist-packages (from requests>=2.32.2->datasets) (3.4.0)\n",
      "Requirement already satisfied: idna<4,>=2.5 in /usr/local/lib/python3.10/dist-packages (from requests>=2.32.2->datasets) (3.10)\n",
      "Requirement already satisfied: urllib3<3,>=1.21.1 in /usr/local/lib/python3.10/dist-packages (from requests>=2.32.2->datasets) (2.2.3)\n",
      "Requirement already satisfied: certifi>=2017.4.17 in /usr/local/lib/python3.10/dist-packages (from requests>=2.32.2->datasets) (2024.8.30)\n",
      "Requirement already satisfied: python-dateutil>=2.8.2 in /usr/local/lib/python3.10/dist-packages (from pandas->datasets) (2.8.2)\n",
      "Requirement already satisfied: pytz>=2020.1 in /usr/local/lib/python3.10/dist-packages (from pandas->datasets) (2024.2)\n",
      "Requirement already satisfied: tzdata>=2022.7 in /usr/local/lib/python3.10/dist-packages (from pandas->datasets) (2024.2)\n",
      "Requirement already satisfied: six>=1.5 in /usr/local/lib/python3.10/dist-packages (from python-dateutil>=2.8.2->pandas->datasets) (1.16.0)\n",
      "Requirement already satisfied: wandb in /usr/local/lib/python3.10/dist-packages (0.18.7)\n",
      "Requirement already satisfied: click!=8.0.0,>=7.1 in /usr/local/lib/python3.10/dist-packages (from wandb) (8.1.7)\n",
      "Requirement already satisfied: docker-pycreds>=0.4.0 in /usr/local/lib/python3.10/dist-packages (from wandb) (0.4.0)\n",
      "Requirement already satisfied: gitpython!=3.1.29,>=1.0.0 in /usr/local/lib/python3.10/dist-packages (from wandb) (3.1.43)\n",
      "Requirement already satisfied: platformdirs in /usr/local/lib/python3.10/dist-packages (from wandb) (4.3.6)\n",
      "Requirement already satisfied: protobuf!=4.21.0,!=5.28.0,<6,>=3.19.0 in /usr/local/lib/python3.10/dist-packages (from wandb) (4.25.5)\n",
      "Requirement already satisfied: psutil>=5.0.0 in /usr/local/lib/python3.10/dist-packages (from wandb) (5.9.5)\n",
      "Requirement already satisfied: pyyaml in /usr/local/lib/python3.10/dist-packages (from wandb) (6.0.2)\n",
      "Requirement already satisfied: requests<3,>=2.0.0 in /usr/local/lib/python3.10/dist-packages (from wandb) (2.32.3)\n",
      "Requirement already satisfied: sentry-sdk>=2.0.0 in /usr/local/lib/python3.10/dist-packages (from wandb) (2.18.0)\n",
      "Requirement already satisfied: setproctitle in /usr/local/lib/python3.10/dist-packages (from wandb) (1.3.4)\n",
      "Requirement already satisfied: setuptools in /usr/local/lib/python3.10/dist-packages (from wandb) (75.1.0)\n",
      "Requirement already satisfied: typing-extensions<5,>=4.4 in /usr/local/lib/python3.10/dist-packages (from wandb) (4.12.2)\n",
      "Requirement already satisfied: six>=1.4.0 in /usr/local/lib/python3.10/dist-packages (from docker-pycreds>=0.4.0->wandb) (1.16.0)\n",
      "Requirement already satisfied: gitdb<5,>=4.0.1 in /usr/local/lib/python3.10/dist-packages (from gitpython!=3.1.29,>=1.0.0->wandb) (4.0.11)\n",
      "Requirement already satisfied: charset-normalizer<4,>=2 in /usr/local/lib/python3.10/dist-packages (from requests<3,>=2.0.0->wandb) (3.4.0)\n",
      "Requirement already satisfied: idna<4,>=2.5 in /usr/local/lib/python3.10/dist-packages (from requests<3,>=2.0.0->wandb) (3.10)\n",
      "Requirement already satisfied: urllib3<3,>=1.21.1 in /usr/local/lib/python3.10/dist-packages (from requests<3,>=2.0.0->wandb) (2.2.3)\n",
      "Requirement already satisfied: certifi>=2017.4.17 in /usr/local/lib/python3.10/dist-packages (from requests<3,>=2.0.0->wandb) (2024.8.30)\n",
      "Requirement already satisfied: smmap<6,>=3.0.1 in /usr/local/lib/python3.10/dist-packages (from gitdb<5,>=4.0.1->gitpython!=3.1.29,>=1.0.0->wandb) (5.0.1)\n",
      "Requirement already satisfied: evaluate in /usr/local/lib/python3.10/dist-packages (0.4.3)\n",
      "Requirement already satisfied: datasets>=2.0.0 in /usr/local/lib/python3.10/dist-packages (from evaluate) (3.1.0)\n",
      "Requirement already satisfied: numpy>=1.17 in /usr/local/lib/python3.10/dist-packages (from evaluate) (1.26.4)\n",
      "Requirement already satisfied: dill in /usr/local/lib/python3.10/dist-packages (from evaluate) (0.3.8)\n",
      "Requirement already satisfied: pandas in /usr/local/lib/python3.10/dist-packages (from evaluate) (2.2.2)\n",
      "Requirement already satisfied: requests>=2.19.0 in /usr/local/lib/python3.10/dist-packages (from evaluate) (2.32.3)\n",
      "Requirement already satisfied: tqdm>=4.62.1 in /usr/local/lib/python3.10/dist-packages (from evaluate) (4.66.6)\n",
      "Requirement already satisfied: xxhash in /usr/local/lib/python3.10/dist-packages (from evaluate) (3.5.0)\n",
      "Requirement already satisfied: multiprocess in /usr/local/lib/python3.10/dist-packages (from evaluate) (0.70.16)\n",
      "Requirement already satisfied: fsspec>=2021.05.0 in /usr/local/lib/python3.10/dist-packages (from fsspec[http]>=2021.05.0->evaluate) (2024.9.0)\n",
      "Requirement already satisfied: huggingface-hub>=0.7.0 in /usr/local/lib/python3.10/dist-packages (from evaluate) (0.26.2)\n",
      "Requirement already satisfied: packaging in /usr/local/lib/python3.10/dist-packages (from evaluate) (24.2)\n",
      "Requirement already satisfied: filelock in /usr/local/lib/python3.10/dist-packages (from datasets>=2.0.0->evaluate) (3.16.1)\n",
      "Requirement already satisfied: pyarrow>=15.0.0 in /usr/local/lib/python3.10/dist-packages (from datasets>=2.0.0->evaluate) (17.0.0)\n",
      "Requirement already satisfied: aiohttp in /usr/local/lib/python3.10/dist-packages (from datasets>=2.0.0->evaluate) (3.11.2)\n",
      "Requirement already satisfied: pyyaml>=5.1 in /usr/local/lib/python3.10/dist-packages (from datasets>=2.0.0->evaluate) (6.0.2)\n",
      "Requirement already satisfied: typing-extensions>=3.7.4.3 in /usr/local/lib/python3.10/dist-packages (from huggingface-hub>=0.7.0->evaluate) (4.12.2)\n",
      "Requirement already satisfied: charset-normalizer<4,>=2 in /usr/local/lib/python3.10/dist-packages (from requests>=2.19.0->evaluate) (3.4.0)\n",
      "Requirement already satisfied: idna<4,>=2.5 in /usr/local/lib/python3.10/dist-packages (from requests>=2.19.0->evaluate) (3.10)\n",
      "Requirement already satisfied: urllib3<3,>=1.21.1 in /usr/local/lib/python3.10/dist-packages (from requests>=2.19.0->evaluate) (2.2.3)\n",
      "Requirement already satisfied: certifi>=2017.4.17 in /usr/local/lib/python3.10/dist-packages (from requests>=2.19.0->evaluate) (2024.8.30)\n",
      "Requirement already satisfied: python-dateutil>=2.8.2 in /usr/local/lib/python3.10/dist-packages (from pandas->evaluate) (2.8.2)\n",
      "Requirement already satisfied: pytz>=2020.1 in /usr/local/lib/python3.10/dist-packages (from pandas->evaluate) (2024.2)\n",
      "Requirement already satisfied: tzdata>=2022.7 in /usr/local/lib/python3.10/dist-packages (from pandas->evaluate) (2024.2)\n",
      "Requirement already satisfied: aiohappyeyeballs>=2.3.0 in /usr/local/lib/python3.10/dist-packages (from aiohttp->datasets>=2.0.0->evaluate) (2.4.3)\n",
      "Requirement already satisfied: aiosignal>=1.1.2 in /usr/local/lib/python3.10/dist-packages (from aiohttp->datasets>=2.0.0->evaluate) (1.3.1)\n",
      "Requirement already satisfied: attrs>=17.3.0 in /usr/local/lib/python3.10/dist-packages (from aiohttp->datasets>=2.0.0->evaluate) (24.2.0)\n",
      "Requirement already satisfied: frozenlist>=1.1.1 in /usr/local/lib/python3.10/dist-packages (from aiohttp->datasets>=2.0.0->evaluate) (1.5.0)\n",
      "Requirement already satisfied: multidict<7.0,>=4.5 in /usr/local/lib/python3.10/dist-packages (from aiohttp->datasets>=2.0.0->evaluate) (6.1.0)\n",
      "Requirement already satisfied: propcache>=0.2.0 in /usr/local/lib/python3.10/dist-packages (from aiohttp->datasets>=2.0.0->evaluate) (0.2.0)\n",
      "Requirement already satisfied: yarl<2.0,>=1.17.0 in /usr/local/lib/python3.10/dist-packages (from aiohttp->datasets>=2.0.0->evaluate) (1.17.2)\n",
      "Requirement already satisfied: async-timeout<6.0,>=4.0 in /usr/local/lib/python3.10/dist-packages (from aiohttp->datasets>=2.0.0->evaluate) (4.0.3)\n",
      "Requirement already satisfied: six>=1.5 in /usr/local/lib/python3.10/dist-packages (from python-dateutil>=2.8.2->pandas->evaluate) (1.16.0)\n",
      "Requirement already satisfied: rouge_score in /usr/local/lib/python3.10/dist-packages (0.1.2)\n",
      "Requirement already satisfied: absl-py in /usr/local/lib/python3.10/dist-packages (from rouge_score) (1.4.0)\n",
      "Requirement already satisfied: nltk in /usr/local/lib/python3.10/dist-packages (from rouge_score) (3.9.1)\n",
      "Requirement already satisfied: numpy in /usr/local/lib/python3.10/dist-packages (from rouge_score) (1.26.4)\n",
      "Requirement already satisfied: six>=1.14.0 in /usr/local/lib/python3.10/dist-packages (from rouge_score) (1.16.0)\n",
      "Requirement already satisfied: click in /usr/local/lib/python3.10/dist-packages (from nltk->rouge_score) (8.1.7)\n",
      "Requirement already satisfied: joblib in /usr/local/lib/python3.10/dist-packages (from nltk->rouge_score) (1.4.2)\n",
      "Requirement already satisfied: regex>=2021.8.3 in /usr/local/lib/python3.10/dist-packages (from nltk->rouge_score) (2024.9.11)\n",
      "Requirement already satisfied: tqdm in /usr/local/lib/python3.10/dist-packages (from nltk->rouge_score) (4.66.6)\n"
     ]
    }
   ],
   "source": [
    "\n",
    "!pip install datasets\n",
    "!pip install wandb\n",
    "!pip install evaluate\n",
    "!pip install rouge_score"
   ]
  },
  {
   "cell_type": "code",
   "execution_count": 2,
   "metadata": {
    "executionInfo": {
     "elapsed": 9325,
     "status": "ok",
     "timestamp": 1732540237626,
     "user": {
      "displayName": "Chijo Nyacigak",
      "userId": "12700575378002708673"
     },
     "user_tz": -180
    },
    "id": "NzYdSDZ0qteb"
   },
   "outputs": [],
   "source": [
    "import pandas as pd\n",
    "import numpy as np\n",
    "import nltk\n",
    "import transformers\n",
    "from datasets import Dataset, load_from_disk\n",
    "from transformers import AutoTokenizer, AutoModelForSeq2SeqLM, Seq2SeqTrainingArguments, Seq2SeqTrainer\n",
    "import evaluate\n",
    "from transformers import TrainingArguments, Trainer\n",
    "import wandb"
   ]
  },
  {
   "cell_type": "markdown",
   "metadata": {
    "id": "5Pj523nEvj5j"
   },
   "source": [
    "## Data pre-processing"
   ]
  },
  {
   "cell_type": "markdown",
   "metadata": {
    "id": "QQTsVVkKrS4E"
   },
   "source": [
    "# Loading Datasets"
   ]
  },
  {
   "cell_type": "code",
   "execution_count": 3,
   "metadata": {
    "colab": {
     "base_uri": "https://localhost:8080/"
    },
    "executionInfo": {
     "elapsed": 322,
     "status": "ok",
     "timestamp": 1732540263341,
     "user": {
      "displayName": "Chijo Nyacigak",
      "userId": "12700575378002708673"
     },
     "user_tz": -180
    },
    "id": "UUFyDEX5rXaq",
    "outputId": "eca86896-2f1f-47fb-e157-308df4e61191"
   },
   "outputs": [
    {
     "data": {
      "text/plain": [
       "DatasetDict({\n",
       "    train: Dataset({\n",
       "        features: ['clean_review_text', 'clean_summary', 'id', '__index_level_0__'],\n",
       "        num_rows: 7738\n",
       "    })\n",
       "    validation: Dataset({\n",
       "        features: ['clean_review_text', 'clean_summary', 'id', '__index_level_0__'],\n",
       "        num_rows: 773\n",
       "    })\n",
       "    test: Dataset({\n",
       "        features: ['clean_review_text', 'clean_summary', 'id', '__index_level_0__'],\n",
       "        num_rows: 1159\n",
       "    })\n",
       "})"
      ]
     },
     "execution_count": 3,
     "metadata": {},
     "output_type": "execute_result"
    }
   ],
   "source": [
    "# Load the datasets\n",
    "df = load_from_disk(\"/content/drive/MyDrive/datasets_finetuning_BART/training_dataset_splits\")\n",
    "\n",
    "df\n"
   ]
  },
  {
   "cell_type": "code",
   "execution_count": 4,
   "metadata": {
    "colab": {
     "base_uri": "https://localhost:8080/",
     "height": 105
    },
    "executionInfo": {
     "elapsed": 353,
     "status": "ok",
     "timestamp": 1732540266751,
     "user": {
      "displayName": "Chijo Nyacigak",
      "userId": "12700575378002708673"
     },
     "user_tz": -180
    },
    "id": "HQepj4QD0dXR",
    "outputId": "e7a14efb-296f-494b-9a07-fedde2227c23"
   },
   "outputs": [
    {
     "data": {
      "application/vnd.google.colaboratory.intrinsic+json": {
       "type": "string"
      },
      "text/plain": [
       "'im heaven thyroid problem affecting skin nothing mean nothing would work matter topical rx doctors gave horrible dry eczema like patches skin well josie maran thank bottom heart product saved skin healing healing husband family coworkers complimented skin askedif ive surgery kind andor lost weight nothing else prove stuff works fantastic skin nice compliments like thatyou gave back confidence drops morning night skin neck lovely line free im glowing patches hypothyroidism disappearing healthy ps always wear argan oil night use products extra benefits needs'"
      ]
     },
     "execution_count": 4,
     "metadata": {},
     "output_type": "execute_result"
    }
   ],
   "source": [
    "df['train'][1]['clean_review_text']"
   ]
  },
  {
   "cell_type": "code",
   "execution_count": 5,
   "metadata": {
    "colab": {
     "base_uri": "https://localhost:8080/",
     "height": 35
    },
    "executionInfo": {
     "elapsed": 429,
     "status": "ok",
     "timestamp": 1732540270503,
     "user": {
      "displayName": "Chijo Nyacigak",
      "userId": "12700575378002708673"
     },
     "user_tz": -180
    },
    "id": "sE82FABKWQWF",
    "outputId": "8738045c-558f-47ed-f907-2c911b567725"
   },
   "outputs": [
    {
     "data": {
      "application/vnd.google.colaboratory.intrinsic+json": {
       "type": "string"
      },
      "text/plain": [
       "'excellent must'"
      ]
     },
     "execution_count": 5,
     "metadata": {},
     "output_type": "execute_result"
    }
   ],
   "source": [
    "df['train'][1]['clean_summary']"
   ]
  },
  {
   "cell_type": "code",
   "execution_count": 6,
   "metadata": {
    "executionInfo": {
     "elapsed": 3393,
     "status": "ok",
     "timestamp": 1732540275458,
     "user": {
      "displayName": "Chijo Nyacigak",
      "userId": "12700575378002708673"
     },
     "user_tz": -180
    },
    "id": "kTIac_u8wlIM"
   },
   "outputs": [],
   "source": [
    "# Load model directly\n",
    "\n",
    "tokenizer = AutoTokenizer.from_pretrained(\"facebook/bart-base\")\n",
    "model = AutoModelForSeq2SeqLM.from_pretrained(\"facebook/bart-base\")"
   ]
  },
  {
   "cell_type": "code",
   "execution_count": 7,
   "metadata": {
    "executionInfo": {
     "elapsed": 317,
     "status": "ok",
     "timestamp": 1732540277666,
     "user": {
      "displayName": "Chijo Nyacigak",
      "userId": "12700575378002708673"
     },
     "user_tz": -180
    },
    "id": "AnKnNdr_wprS"
   },
   "outputs": [],
   "source": [
    "#  preprocessing function\n",
    "def preprocess_function(batch):\n",
    "    model_inputs = tokenizer(batch['clean_review_text'], padding=\"max_length\", max_length=1024, truncation=True\n",
    "    )\n",
    "    labels = tokenizer(text_target=batch[\"clean_summary\"],  padding=\"max_length\", max_length=128, truncation=True\n",
    "    )\n",
    "    # Replace pad token IDs in the labels with -100 to ignore them in loss computation\n",
    "    labels[\"input_ids\"] = [[(label if label != tokenizer.pad_token_id else -100) for label in label_seq] for label_seq in labels[\"input_ids\"]]\n",
    "    model_inputs['labels'] = labels['input_ids']\n",
    "    return model_inputs"
   ]
  },
  {
   "cell_type": "code",
   "execution_count": 8,
   "metadata": {
    "colab": {
     "base_uri": "https://localhost:8080/",
     "height": 49,
     "referenced_widgets": [
      "c1a8e23766134de9adf1fa235f502eee",
      "151e236f0fc34f7a83cc2f1485af53a6",
      "059816a8b534450caca101f7bfb84ac6",
      "d5e20be7035a4fb79d6a28b8272e871c",
      "ff9312eb82aa4de6875b554635bd8b8f",
      "38bd36c7262f456fa77ab99f3c406485",
      "f7dfe3255a1441939052f12e7fdb6fbd",
      "266fa85b66454252a3c6e6a81bab583d",
      "bd42176413cb4fd881c9fe41e5c0827b",
      "3b671e217abc49e5978e9e952fa8532d",
      "4c464943714e43aeba2fe361a7bda724"
     ]
    },
    "executionInfo": {
     "elapsed": 1182,
     "status": "ok",
     "timestamp": 1732540282214,
     "user": {
      "displayName": "Chijo Nyacigak",
      "userId": "12700575378002708673"
     },
     "user_tz": -180
    },
    "id": "XK6Ft4VIwpoz",
    "outputId": "80136204-36e9-4e88-f577-56a27e9d0055"
   },
   "outputs": [
    {
     "data": {
      "application/vnd.jupyter.widget-view+json": {
       "model_id": "c1a8e23766134de9adf1fa235f502eee",
       "version_major": 2,
       "version_minor": 0
      },
      "text/plain": [
       "Map:   0%|          | 0/773 [00:00<?, ? examples/s]"
      ]
     },
     "metadata": {},
     "output_type": "display_data"
    }
   ],
   "source": [
    "# tokenize dataset\n",
    "tokenized_dataset = df.map(preprocess_function, batched=True)"
   ]
  },
  {
   "cell_type": "code",
   "execution_count": 15,
   "metadata": {
    "colab": {
     "base_uri": "https://localhost:8080/"
    },
    "executionInfo": {
     "elapsed": 413,
     "status": "ok",
     "timestamp": 1732540381893,
     "user": {
      "displayName": "Chijo Nyacigak",
      "userId": "12700575378002708673"
     },
     "user_tz": -180
    },
    "id": "28uX6KgrXKDA",
    "outputId": "096806ea-76d4-482d-a2bf-88930e147b23"
   },
   "outputs": [
    {
     "data": {
      "text/plain": [
       "DatasetDict({\n",
       "    train: Dataset({\n",
       "        features: ['input_ids', 'attention_mask', 'labels'],\n",
       "        num_rows: 7738\n",
       "    })\n",
       "    validation: Dataset({\n",
       "        features: ['input_ids', 'attention_mask', 'labels'],\n",
       "        num_rows: 773\n",
       "    })\n",
       "    test: Dataset({\n",
       "        features: ['input_ids', 'attention_mask', 'labels'],\n",
       "        num_rows: 1159\n",
       "    })\n",
       "})"
      ]
     },
     "execution_count": 15,
     "metadata": {},
     "output_type": "execute_result"
    }
   ],
   "source": [
    "tokenized_dataset"
   ]
  },
  {
   "cell_type": "code",
   "execution_count": 10,
   "metadata": {
    "executionInfo": {
     "elapsed": 383,
     "status": "ok",
     "timestamp": 1732540307539,
     "user": {
      "displayName": "Chijo Nyacigak",
      "userId": "12700575378002708673"
     },
     "user_tz": -180
    },
    "id": "ZPmsu7yiwpjM"
   },
   "outputs": [],
   "source": [
    "# Remove unused columns from the tokenized datasets\n",
    "tokenized_dataset = tokenized_dataset.remove_columns([\"__index_level_0__\", \"clean_review_text\", \"clean_summary\"])"
   ]
  },
  {
   "cell_type": "code",
   "execution_count": 14,
   "metadata": {
    "executionInfo": {
     "elapsed": 394,
     "status": "ok",
     "timestamp": 1732540379332,
     "user": {
      "displayName": "Chijo Nyacigak",
      "userId": "12700575378002708673"
     },
     "user_tz": -180
    },
    "id": "R_6Npbi7c4yx"
   },
   "outputs": [],
   "source": [
    "# Remove unused columns from the tokenized datasets\n",
    "tokenized_dataset = tokenized_dataset.remove_columns([\"id\"])"
   ]
  },
  {
   "cell_type": "markdown",
   "metadata": {
    "id": "Y_czV3Lrw6Xy"
   },
   "source": [
    "# Fine-tuning"
   ]
  },
  {
   "cell_type": "markdown",
   "metadata": {
    "id": "XmxW55WqxJvK"
   },
   "source": [
    "## Training"
   ]
  },
  {
   "cell_type": "code",
   "execution_count": 12,
   "metadata": {
    "executionInfo": {
     "elapsed": 411,
     "status": "ok",
     "timestamp": 1732540319135,
     "user": {
      "displayName": "Chijo Nyacigak",
      "userId": "12700575378002708673"
     },
     "user_tz": -180
    },
    "id": "4ql2clcfxLxu"
   },
   "outputs": [],
   "source": [
    "# Define training arguments\n",
    "training_args = TrainingArguments(\n",
    "    output_dir=\"/content/drive/MyDrive/datasets_finetuning_BART/training\",\n",
    "    per_device_train_batch_size=4,\n",
    "    num_train_epochs=2,\n",
    "    remove_unused_columns=False\n",
    ")\n"
   ]
  },
  {
   "cell_type": "code",
   "execution_count": 16,
   "metadata": {
    "colab": {
     "base_uri": "https://localhost:8080/",
     "height": 436
    },
    "executionInfo": {
     "elapsed": 623065,
     "status": "ok",
     "timestamp": 1732541012407,
     "user": {
      "displayName": "Chijo Nyacigak",
      "userId": "12700575378002708673"
     },
     "user_tz": -180
    },
    "id": "3Y6hcwaBwpUx",
    "outputId": "56aeb9c2-f61c-421e-b6a6-06db29c78054"
   },
   "outputs": [
    {
     "name": "stderr",
     "output_type": "stream",
     "text": [
      "<ipython-input-16-5984f97141d0>:2: FutureWarning: `tokenizer` is deprecated and will be removed in version 5.0.0 for `Trainer.__init__`. Use `processing_class` instead.\n",
      "  trainer = Trainer(\n"
     ]
    },
    {
     "data": {
      "text/html": [
       "\n",
       "    <div>\n",
       "      \n",
       "      <progress value='3870' max='3870' style='width:300px; height:20px; vertical-align: middle;'></progress>\n",
       "      [3870/3870 10:20, Epoch 2/2]\n",
       "    </div>\n",
       "    <table border=\"1\" class=\"dataframe\">\n",
       "  <thead>\n",
       " <tr style=\"text-align: left;\">\n",
       "      <th>Step</th>\n",
       "      <th>Training Loss</th>\n",
       "    </tr>\n",
       "  </thead>\n",
       "  <tbody>\n",
       "    <tr>\n",
       "      <td>500</td>\n",
       "      <td>3.533500</td>\n",
       "    </tr>\n",
       "    <tr>\n",
       "      <td>1000</td>\n",
       "      <td>3.170600</td>\n",
       "    </tr>\n",
       "    <tr>\n",
       "      <td>1500</td>\n",
       "      <td>2.944300</td>\n",
       "    </tr>\n",
       "    <tr>\n",
       "      <td>2000</td>\n",
       "      <td>2.930400</td>\n",
       "    </tr>\n",
       "    <tr>\n",
       "      <td>2500</td>\n",
       "      <td>2.438300</td>\n",
       "    </tr>\n",
       "    <tr>\n",
       "      <td>3000</td>\n",
       "      <td>2.491600</td>\n",
       "    </tr>\n",
       "    <tr>\n",
       "      <td>3500</td>\n",
       "      <td>2.421500</td>\n",
       "    </tr>\n",
       "  </tbody>\n",
       "</table><p>"
      ],
      "text/plain": [
       "<IPython.core.display.HTML object>"
      ]
     },
     "metadata": {},
     "output_type": "display_data"
    },
    {
     "name": "stderr",
     "output_type": "stream",
     "text": [
      "/usr/local/lib/python3.10/dist-packages/transformers/modeling_utils.py:2817: UserWarning: Moving the following attributes in the config to the generation config: {'early_stopping': True, 'num_beams': 4, 'no_repeat_ngram_size': 3, 'forced_bos_token_id': 0}. You are seeing this warning because you've set generation parameters in the model config, as opposed to in the generation config.\n",
      "  warnings.warn(\n"
     ]
    },
    {
     "data": {
      "text/plain": [
       "TrainOutput(global_step=3870, training_loss=2.7982961570877745, metrics={'train_runtime': 622.1701, 'train_samples_per_second': 24.874, 'train_steps_per_second': 6.22, 'total_flos': 9436281427722240.0, 'train_loss': 2.7982961570877745, 'epoch': 2.0})"
      ]
     },
     "execution_count": 16,
     "metadata": {},
     "output_type": "execute_result"
    }
   ],
   "source": [
    "# Create Trainer object\n",
    "trainer = Trainer(\n",
    "    model=model,\n",
    "    args=training_args,\n",
    "    train_dataset=tokenized_dataset['train'],\n",
    "    eval_dataset=tokenized_dataset['test'],\n",
    "    tokenizer=tokenizer\n",
    "\n",
    ")\n",
    "\n",
    "# Train the model\n",
    "trainer.train()"
   ]
  },
  {
   "cell_type": "markdown",
   "metadata": {
    "id": "Cfd_uiAkX-t9"
   },
   "source": [
    "# Evaluate the model"
   ]
  },
  {
   "cell_type": "code",
   "execution_count": 17,
   "metadata": {
    "colab": {
     "base_uri": "https://localhost:8080/",
     "height": 124
    },
    "executionInfo": {
     "elapsed": 12753,
     "status": "ok",
     "timestamp": 1732541040756,
     "user": {
      "displayName": "Chijo Nyacigak",
      "userId": "12700575378002708673"
     },
     "user_tz": -180
    },
    "id": "UfZm5RKxX8Uy",
    "outputId": "145aee58-b6b9-4d38-ced9-5ff3c83d8f1d"
   },
   "outputs": [
    {
     "data": {
      "text/html": [
       "\n",
       "    <div>\n",
       "      \n",
       "      <progress value='145' max='145' style='width:300px; height:20px; vertical-align: middle;'></progress>\n",
       "      [145/145 00:12]\n",
       "    </div>\n",
       "    "
      ],
      "text/plain": [
       "<IPython.core.display.HTML object>"
      ]
     },
     "metadata": {},
     "output_type": "display_data"
    },
    {
     "data": {
      "text/plain": [
       "{'eval_loss': 2.633557081222534,\n",
       " 'eval_runtime': 12.6783,\n",
       " 'eval_samples_per_second': 91.416,\n",
       " 'eval_steps_per_second': 11.437,\n",
       " 'epoch': 2.0}"
      ]
     },
     "execution_count": 17,
     "metadata": {},
     "output_type": "execute_result"
    }
   ],
   "source": [
    "# Evaluate the model\n",
    "eval_results = trainer.evaluate()\n",
    "\n",
    "eval_results"
   ]
  },
  {
   "cell_type": "markdown",
   "metadata": {
    "id": "KvyKlfDOxVVy"
   },
   "source": [
    "## Save the model"
   ]
  },
  {
   "cell_type": "code",
   "execution_count": 18,
   "metadata": {
    "colab": {
     "base_uri": "https://localhost:8080/"
    },
    "executionInfo": {
     "elapsed": 1629,
     "status": "ok",
     "timestamp": 1732541081592,
     "user": {
      "displayName": "Chijo Nyacigak",
      "userId": "12700575378002708673"
     },
     "user_tz": -180
    },
    "id": "_BAEykcTxW6R",
    "outputId": "81bf2eac-4316-45a6-94a6-c2f13a8aec0e"
   },
   "outputs": [
    {
     "data": {
      "text/plain": [
       "('/content/drive/MyDrive/datasets_finetuning_BART/summarization_model/tokenizer_config.json',\n",
       " '/content/drive/MyDrive/datasets_finetuning_BART/summarization_model/special_tokens_map.json',\n",
       " '/content/drive/MyDrive/datasets_finetuning_BART/summarization_model/vocab.json',\n",
       " '/content/drive/MyDrive/datasets_finetuning_BART/summarization_model/merges.txt',\n",
       " '/content/drive/MyDrive/datasets_finetuning_BART/summarization_model/added_tokens.json',\n",
       " '/content/drive/MyDrive/datasets_finetuning_BART/summarization_model/tokenizer.json')"
      ]
     },
     "execution_count": 18,
     "metadata": {},
     "output_type": "execute_result"
    }
   ],
   "source": [
    "# Save the model and tokenizer after training\n",
    "model.save_pretrained(\"/content/drive/MyDrive/datasets_finetuning_BART/summarization_model\")\n",
    "tokenizer.save_pretrained(\"/content/drive/MyDrive/datasets_finetuning_BART/summarization_model\")"
   ]
  },
  {
   "cell_type": "markdown",
   "metadata": {
    "id": "tqlko0CyxcFi"
   },
   "source": [
    "## Testing the model to summarize review"
   ]
  },
  {
   "cell_type": "code",
   "execution_count": 30,
   "metadata": {
    "executionInfo": {
     "elapsed": 1250,
     "status": "ok",
     "timestamp": 1732542764001,
     "user": {
      "displayName": "Chijo Nyacigak",
      "userId": "12700575378002708673"
     },
     "user_tz": -180
    },
    "id": "o0xJYdfjxW3J"
   },
   "outputs": [],
   "source": [
    "# Load the trained model and tokenizer\n",
    "tokenizer = AutoTokenizer.from_pretrained(\"/content/drive/MyDrive/datasets_finetuning_BART/summarization_model\")\n",
    "model = AutoModelForSeq2SeqLM.from_pretrained(\"/content/drive/MyDrive/datasets_finetuning_BART/summarization_model\")\n",
    "\n",
    "# Function to summarize a review\n",
    "def summarize(review):\n",
    "    # Tokenize the input review text\n",
    "    inputs = tokenizer(review, max_length=1024, truncation=True, return_tensors=\"pt\")\n",
    "\n",
    "    # Generate the summary\n",
    "    summary_ids = model.generate(inputs[\"input_ids\"], max_length=40, min_length=10, length_penalty=2.0, num_beams=8, early_stopping=True)\n",
    "\n",
    "    # Decode the summary\n",
    "    summary = tokenizer.decode(summary_ids[0], skip_special_tokens=True)\n",
    "    return summary\n"
   ]
  },
  {
   "cell_type": "code",
   "execution_count": 31,
   "metadata": {
    "colab": {
     "base_uri": "https://localhost:8080/"
    },
    "executionInfo": {
     "elapsed": 962,
     "status": "ok",
     "timestamp": 1732542769963,
     "user": {
      "displayName": "Chijo Nyacigak",
      "userId": "12700575378002708673"
     },
     "user_tz": -180
    },
    "id": "VcR5mjItxWyK",
    "outputId": "ac992b02-be5f-44a1-9b28-11a2b2b52484"
   },
   "outputs": [
    {
     "name": "stdout",
     "output_type": "stream",
     "text": [
      "Summary: great new phone iphone stylus\n"
     ]
    }
   ],
   "source": [
    "# Example of a review\n",
    "review = \"\"\"\n",
    "Oh wow, I love my new phone, the iphone 13. It takes clear pictures, it is lightweight, and I enjoy it. Though it's battery doesn't last as\n",
    "long as my previous phone Redmi Note 11. Overall, I love it!.\n",
    "\"\"\"\n",
    "\n",
    "# Get the summary\n",
    "summary = summarize(review)\n",
    "print(\"Summary:\", summary)"
   ]
  },
  {
   "cell_type": "code",
   "execution_count": 32,
   "metadata": {
    "executionInfo": {
     "elapsed": 441,
     "status": "ok",
     "timestamp": 1732542775448,
     "user": {
      "displayName": "Chijo Nyacigak",
      "userId": "12700575378002708673"
     },
     "user_tz": -180
    },
    "id": "FHd8an7RxWFA"
   },
   "outputs": [],
   "source": [
    "# Load the validation dataset\n",
    "dataset = load_from_disk(\"/content/drive/MyDrive/datasets_BART_project/validation_dataset\")"
   ]
  },
  {
   "cell_type": "code",
   "execution_count": 33,
   "metadata": {
    "colab": {
     "base_uri": "https://localhost:8080/"
    },
    "executionInfo": {
     "elapsed": 85595,
     "status": "ok",
     "timestamp": 1732542862509,
     "user": {
      "displayName": "Chijo Nyacigak",
      "userId": "12700575378002708673"
     },
     "user_tz": -180
    },
    "id": "M9-r6ITigkEp",
    "outputId": "7ecf5080-eb70-4aae-9a4d-f15ade0affe1"
   },
   "outputs": [
    {
     "name": "stderr",
     "output_type": "stream",
     "text": [
      "100%|██████████| 233/233 [01:25<00:00,  2.73it/s]\n"
     ]
    }
   ],
   "source": [
    "from tqdm import tqdm\n",
    "\n",
    "\n",
    "# Generate and compare summaries\n",
    "generated_summaries = []\n",
    "ground_truth_summaries = []\n",
    "\n",
    "\n",
    "for sample in tqdm(dataset):\n",
    "    # Summarize the 'clean_review_text'\n",
    "    generated_summary = summarize(sample[\"clean_review_text\"])\n",
    "    generated_summaries.append(generated_summary)\n",
    "\n",
    "    # Append the 'clean_summary' as ground truth\n",
    "    ground_truth_summaries.append(sample[\"clean_summary\"])"
   ]
  },
  {
   "cell_type": "code",
   "execution_count": 34,
   "metadata": {
    "colab": {
     "base_uri": "https://localhost:8080/"
    },
    "executionInfo": {
     "elapsed": 358,
     "status": "ok",
     "timestamp": 1732542877241,
     "user": {
      "displayName": "Chijo Nyacigak",
      "userId": "12700575378002708673"
     },
     "user_tz": -180
    },
    "id": "VYvi3fUoiT_N",
    "outputId": "68a85d6e-bab5-4664-f3a2-fa8f70ca4749"
   },
   "outputs": [
    {
     "name": "stdout",
     "output_type": "stream",
     "text": [
      "Review: product great son really dry skin hands always really dry product amazing fragance\n",
      "Generated Summary: amazing product dry skin great dry skin\n",
      "Ground Truth Summary: great\n",
      "------------------------------------------------------------------------------\n",
      "Review: believe fantastic product affordable price ill save lengthy review say buy\n",
      "Generated Summary: fantastic product affordable price review say buy\n",
      "Ground Truth Summary: get\n",
      "------------------------------------------------------------------------------\n",
      "Review: usually wouldve given product stars love tatcha products work wonders oily acneprone sensitive skin cream used keep oil bay never ever broke ive using water cream years ran last bottle repurchased usual days using new bottle started breaking painful cystic acne face oily broken places never breaks much pain refused believe cream hadnt introduced new products routine decided stop using days see breakouts subsided low behold face clearing im oily using different moisturizer im heartbroken formula used amazing whatever change longer works skin sadly hunt new daily moisturizer\n",
      "Generated Summary: best moisturizer ive used ive ever used\n",
      "Ground Truth Summary: definitely changed formula\n",
      "------------------------------------------------------------------------------\n",
      "Review: moved ca boston middle winter last year skin dry peeling overall dying cold dry air salesperson sephora suggested days skin fixed miraclefast forward past wintry week thought fine went days without moisturizer boom rough scaly peeling skin back honestly moisturizer lifesaver cold months surprising formula light absorbs quickly love dispenser perfect mix selftanning drops without wasting moisturizer feel seriously best purchase ever\n",
      "Generated Summary: best moisturizer ive ever used dry peeling\n",
      "Ground Truth Summary: winter warrior\n",
      "------------------------------------------------------------------------------\n",
      "Review: see theres many people hyping beautiful close face make looks extremely flawless glowing ill adding routine\n",
      "Generated Summary: beautiful close face make looks like magic\n",
      "Ground Truth Summary: like lot\n",
      "------------------------------------------------------------------------------\n",
      "Review: flimsy case glued properlywhen placed id slot slot came id hold fone place though\n",
      "Generated Summary: flimsy case iphone fone\n",
      "Ground Truth Summary: plastic wallet case\n",
      "------------------------------------------------------------------------------\n",
      "Review: wish could bathe stuff gets dry dull skin harsh northern winters ive vacation whole time\n",
      "Generated Summary: wish could bathe stuff dry dull skin\n",
      "Ground Truth Summary: obsessed\n",
      "------------------------------------------------------------------------------\n",
      "Review: live blue jeans im extremely particular style fit fabric eternal fan ag tried recommendation sales association past week ive dressed dressed wished could wear work wash especially versatile shade indigo incredibly flattering fit youre going splurge one essential seasonthese paige jeans definitely candidate\n",
      "Generated Summary: best jeans ive ever worn ive found\n",
      "Ground Truth Summary: outstanding\n",
      "------------------------------------------------------------------------------\n",
      "Review: giving one star due exfoliating also smells like cat pee would recommend personally\n",
      "Generated Summary: great exfoliating smells like cat pee\n",
      "Ground Truth Summary: smells like cat pee\n",
      "------------------------------------------------------------------------------\n",
      "Review: perfect solution sensitive skin glow amazing\n",
      "Generated Summary: glowy sensitive skin love love love product\n",
      "Ground Truth Summary: great product\n",
      "------------------------------------------------------------------------------\n"
     ]
    }
   ],
   "source": [
    "# compare the summaries\n",
    "for i in range(10):\n",
    "    print(f\"Review: {dataset[i]['clean_review_text']}\")\n",
    "    print(f\"Generated Summary: {generated_summaries[i]}\")\n",
    "    print(f\"Ground Truth Summary: {ground_truth_summaries[i]}\")\n",
    "    print(\"---- * 50\")"
   ]
  },
  {
   "cell_type": "markdown",
   "metadata": {
    "id": "y0dDt1r0oDF9"
   },
   "source": [
    "## Evaluating the summaries"
   ]
  },
  {
   "cell_type": "code",
   "execution_count": 37,
   "metadata": {
    "colab": {
     "base_uri": "https://localhost:8080/"
    },
    "executionInfo": {
     "elapsed": 824,
     "status": "ok",
     "timestamp": 1732543201874,
     "user": {
      "displayName": "Chijo Nyacigak",
      "userId": "12700575378002708673"
     },
     "user_tz": -180
    },
    "id": "adBFOOXLnP2z",
    "outputId": "b61f3b0b-8ee4-44a1-b6b9-d7476f97f067"
   },
   "outputs": [
    {
     "data": {
      "text/plain": [
       "{'rouge1': 0.4, 'rouge2': 0.25, 'rougeL': 0.4, 'rougeLsum': 0.4}"
      ]
     },
     "execution_count": 37,
     "metadata": {},
     "output_type": "execute_result"
    }
   ],
   "source": [
    "# Loading the ROGUE metric\n",
    "\n",
    "rouge_score = evaluate.load(\"rouge\")\n",
    "scores = rouge_score.compute(\n",
    "    predictions=[generated_summary], references=[ground_truth_summaries]\n",
    ")\n",
    "scores"
   ]
  }
 ],
 "metadata": {
  "accelerator": "GPU",
  "colab": {
   "authorship_tag": "ABX9TyMu8hWISdFKLgZ3jyESL5Qm",
   "gpuType": "A100",
   "machine_shape": "hm",
   "mount_file_id": "1g3G8gE8uGy0bLBPtO6P_-3pwl4tzh1MD",
   "provenance": []
  },
  "kernelspec": {
   "display_name": "Python 3 (ipykernel)",
   "language": "python",
   "name": "python3"
  },
  "language_info": {
   "codemirror_mode": {
    "name": "ipython",
    "version": 3
   },
   "file_extension": ".py",
   "mimetype": "text/x-python",
   "name": "python",
   "nbconvert_exporter": "python",
   "pygments_lexer": "ipython3",
   "version": "3.12.3"
  },
  "widgets": {
   "application/vnd.jupyter.widget-state+json": {
    "059816a8b534450caca101f7bfb84ac6": {
     "model_module": "@jupyter-widgets/controls",
     "model_module_version": "1.5.0",
     "model_name": "FloatProgressModel",
     "state": {
      "_dom_classes": [],
      "_model_module": "@jupyter-widgets/controls",
      "_model_module_version": "1.5.0",
      "_model_name": "FloatProgressModel",
      "_view_count": null,
      "_view_module": "@jupyter-widgets/controls",
      "_view_module_version": "1.5.0",
      "_view_name": "ProgressView",
      "bar_style": "success",
      "description": "",
      "description_tooltip": null,
      "layout": "IPY_MODEL_266fa85b66454252a3c6e6a81bab583d",
      "max": 773,
      "min": 0,
      "orientation": "horizontal",
      "style": "IPY_MODEL_bd42176413cb4fd881c9fe41e5c0827b",
      "value": 773
     }
    },
    "151e236f0fc34f7a83cc2f1485af53a6": {
     "model_module": "@jupyter-widgets/controls",
     "model_module_version": "1.5.0",
     "model_name": "HTMLModel",
     "state": {
      "_dom_classes": [],
      "_model_module": "@jupyter-widgets/controls",
      "_model_module_version": "1.5.0",
      "_model_name": "HTMLModel",
      "_view_count": null,
      "_view_module": "@jupyter-widgets/controls",
      "_view_module_version": "1.5.0",
      "_view_name": "HTMLView",
      "description": "",
      "description_tooltip": null,
      "layout": "IPY_MODEL_38bd36c7262f456fa77ab99f3c406485",
      "placeholder": "​",
      "style": "IPY_MODEL_f7dfe3255a1441939052f12e7fdb6fbd",
      "value": "Map: 100%"
     }
    },
    "266fa85b66454252a3c6e6a81bab583d": {
     "model_module": "@jupyter-widgets/base",
     "model_module_version": "1.2.0",
     "model_name": "LayoutModel",
     "state": {
      "_model_module": "@jupyter-widgets/base",
      "_model_module_version": "1.2.0",
      "_model_name": "LayoutModel",
      "_view_count": null,
      "_view_module": "@jupyter-widgets/base",
      "_view_module_version": "1.2.0",
      "_view_name": "LayoutView",
      "align_content": null,
      "align_items": null,
      "align_self": null,
      "border": null,
      "bottom": null,
      "display": null,
      "flex": null,
      "flex_flow": null,
      "grid_area": null,
      "grid_auto_columns": null,
      "grid_auto_flow": null,
      "grid_auto_rows": null,
      "grid_column": null,
      "grid_gap": null,
      "grid_row": null,
      "grid_template_areas": null,
      "grid_template_columns": null,
      "grid_template_rows": null,
      "height": null,
      "justify_content": null,
      "justify_items": null,
      "left": null,
      "margin": null,
      "max_height": null,
      "max_width": null,
      "min_height": null,
      "min_width": null,
      "object_fit": null,
      "object_position": null,
      "order": null,
      "overflow": null,
      "overflow_x": null,
      "overflow_y": null,
      "padding": null,
      "right": null,
      "top": null,
      "visibility": null,
      "width": null
     }
    },
    "38bd36c7262f456fa77ab99f3c406485": {
     "model_module": "@jupyter-widgets/base",
     "model_module_version": "1.2.0",
     "model_name": "LayoutModel",
     "state": {
      "_model_module": "@jupyter-widgets/base",
      "_model_module_version": "1.2.0",
      "_model_name": "LayoutModel",
      "_view_count": null,
      "_view_module": "@jupyter-widgets/base",
      "_view_module_version": "1.2.0",
      "_view_name": "LayoutView",
      "align_content": null,
      "align_items": null,
      "align_self": null,
      "border": null,
      "bottom": null,
      "display": null,
      "flex": null,
      "flex_flow": null,
      "grid_area": null,
      "grid_auto_columns": null,
      "grid_auto_flow": null,
      "grid_auto_rows": null,
      "grid_column": null,
      "grid_gap": null,
      "grid_row": null,
      "grid_template_areas": null,
      "grid_template_columns": null,
      "grid_template_rows": null,
      "height": null,
      "justify_content": null,
      "justify_items": null,
      "left": null,
      "margin": null,
      "max_height": null,
      "max_width": null,
      "min_height": null,
      "min_width": null,
      "object_fit": null,
      "object_position": null,
      "order": null,
      "overflow": null,
      "overflow_x": null,
      "overflow_y": null,
      "padding": null,
      "right": null,
      "top": null,
      "visibility": null,
      "width": null
     }
    },
    "3b671e217abc49e5978e9e952fa8532d": {
     "model_module": "@jupyter-widgets/base",
     "model_module_version": "1.2.0",
     "model_name": "LayoutModel",
     "state": {
      "_model_module": "@jupyter-widgets/base",
      "_model_module_version": "1.2.0",
      "_model_name": "LayoutModel",
      "_view_count": null,
      "_view_module": "@jupyter-widgets/base",
      "_view_module_version": "1.2.0",
      "_view_name": "LayoutView",
      "align_content": null,
      "align_items": null,
      "align_self": null,
      "border": null,
      "bottom": null,
      "display": null,
      "flex": null,
      "flex_flow": null,
      "grid_area": null,
      "grid_auto_columns": null,
      "grid_auto_flow": null,
      "grid_auto_rows": null,
      "grid_column": null,
      "grid_gap": null,
      "grid_row": null,
      "grid_template_areas": null,
      "grid_template_columns": null,
      "grid_template_rows": null,
      "height": null,
      "justify_content": null,
      "justify_items": null,
      "left": null,
      "margin": null,
      "max_height": null,
      "max_width": null,
      "min_height": null,
      "min_width": null,
      "object_fit": null,
      "object_position": null,
      "order": null,
      "overflow": null,
      "overflow_x": null,
      "overflow_y": null,
      "padding": null,
      "right": null,
      "top": null,
      "visibility": null,
      "width": null
     }
    },
    "4c464943714e43aeba2fe361a7bda724": {
     "model_module": "@jupyter-widgets/controls",
     "model_module_version": "1.5.0",
     "model_name": "DescriptionStyleModel",
     "state": {
      "_model_module": "@jupyter-widgets/controls",
      "_model_module_version": "1.5.0",
      "_model_name": "DescriptionStyleModel",
      "_view_count": null,
      "_view_module": "@jupyter-widgets/base",
      "_view_module_version": "1.2.0",
      "_view_name": "StyleView",
      "description_width": ""
     }
    },
    "bd42176413cb4fd881c9fe41e5c0827b": {
     "model_module": "@jupyter-widgets/controls",
     "model_module_version": "1.5.0",
     "model_name": "ProgressStyleModel",
     "state": {
      "_model_module": "@jupyter-widgets/controls",
      "_model_module_version": "1.5.0",
      "_model_name": "ProgressStyleModel",
      "_view_count": null,
      "_view_module": "@jupyter-widgets/base",
      "_view_module_version": "1.2.0",
      "_view_name": "StyleView",
      "bar_color": null,
      "description_width": ""
     }
    },
    "c1a8e23766134de9adf1fa235f502eee": {
     "model_module": "@jupyter-widgets/controls",
     "model_module_version": "1.5.0",
     "model_name": "HBoxModel",
     "state": {
      "_dom_classes": [],
      "_model_module": "@jupyter-widgets/controls",
      "_model_module_version": "1.5.0",
      "_model_name": "HBoxModel",
      "_view_count": null,
      "_view_module": "@jupyter-widgets/controls",
      "_view_module_version": "1.5.0",
      "_view_name": "HBoxView",
      "box_style": "",
      "children": [
       "IPY_MODEL_151e236f0fc34f7a83cc2f1485af53a6",
       "IPY_MODEL_059816a8b534450caca101f7bfb84ac6",
       "IPY_MODEL_d5e20be7035a4fb79d6a28b8272e871c"
      ],
      "layout": "IPY_MODEL_ff9312eb82aa4de6875b554635bd8b8f"
     }
    },
    "d5e20be7035a4fb79d6a28b8272e871c": {
     "model_module": "@jupyter-widgets/controls",
     "model_module_version": "1.5.0",
     "model_name": "HTMLModel",
     "state": {
      "_dom_classes": [],
      "_model_module": "@jupyter-widgets/controls",
      "_model_module_version": "1.5.0",
      "_model_name": "HTMLModel",
      "_view_count": null,
      "_view_module": "@jupyter-widgets/controls",
      "_view_module_version": "1.5.0",
      "_view_name": "HTMLView",
      "description": "",
      "description_tooltip": null,
      "layout": "IPY_MODEL_3b671e217abc49e5978e9e952fa8532d",
      "placeholder": "​",
      "style": "IPY_MODEL_4c464943714e43aeba2fe361a7bda724",
      "value": " 773/773 [00:00&lt;00:00, 1338.97 examples/s]"
     }
    },
    "f7dfe3255a1441939052f12e7fdb6fbd": {
     "model_module": "@jupyter-widgets/controls",
     "model_module_version": "1.5.0",
     "model_name": "DescriptionStyleModel",
     "state": {
      "_model_module": "@jupyter-widgets/controls",
      "_model_module_version": "1.5.0",
      "_model_name": "DescriptionStyleModel",
      "_view_count": null,
      "_view_module": "@jupyter-widgets/base",
      "_view_module_version": "1.2.0",
      "_view_name": "StyleView",
      "description_width": ""
     }
    },
    "ff9312eb82aa4de6875b554635bd8b8f": {
     "model_module": "@jupyter-widgets/base",
     "model_module_version": "1.2.0",
     "model_name": "LayoutModel",
     "state": {
      "_model_module": "@jupyter-widgets/base",
      "_model_module_version": "1.2.0",
      "_model_name": "LayoutModel",
      "_view_count": null,
      "_view_module": "@jupyter-widgets/base",
      "_view_module_version": "1.2.0",
      "_view_name": "LayoutView",
      "align_content": null,
      "align_items": null,
      "align_self": null,
      "border": null,
      "bottom": null,
      "display": null,
      "flex": null,
      "flex_flow": null,
      "grid_area": null,
      "grid_auto_columns": null,
      "grid_auto_flow": null,
      "grid_auto_rows": null,
      "grid_column": null,
      "grid_gap": null,
      "grid_row": null,
      "grid_template_areas": null,
      "grid_template_columns": null,
      "grid_template_rows": null,
      "height": null,
      "justify_content": null,
      "justify_items": null,
      "left": null,
      "margin": null,
      "max_height": null,
      "max_width": null,
      "min_height": null,
      "min_width": null,
      "object_fit": null,
      "object_position": null,
      "order": null,
      "overflow": null,
      "overflow_x": null,
      "overflow_y": null,
      "padding": null,
      "right": null,
      "top": null,
      "visibility": null,
      "width": null
     }
    }
   }
  }
 },
 "nbformat": 4,
 "nbformat_minor": 4
}
