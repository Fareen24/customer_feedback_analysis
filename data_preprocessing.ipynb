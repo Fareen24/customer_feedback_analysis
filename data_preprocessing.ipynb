{
 "cells": [
  {
   "cell_type": "markdown",
   "id": "8fe98bf3-15e5-4d1d-8ea5-f2bcbad3c198",
   "metadata": {
    "id": "8fe98bf3-15e5-4d1d-8ea5-f2bcbad3c198"
   },
   "source": [
    "# Data collection and preprocessing"
   ]
  },
  {
   "cell_type": "code",
   "execution_count": 2,
   "id": "d2b4b8c1-e5e3-4b18-9a5a-39eba4f80d8f",
   "metadata": {
    "executionInfo": {
     "elapsed": 12400,
     "status": "ok",
     "timestamp": 1731854601110,
     "user": {
      "displayName": "Chijo Nyacigak",
      "userId": "12700575378002708673"
     },
     "user_tz": -180
    },
    "id": "d2b4b8c1-e5e3-4b18-9a5a-39eba4f80d8f"
   },
   "outputs": [],
   "source": [
    "import os\n",
    "import pandas as pd\n",
    "import json\n",
    "import uuid\n",
    "import re\n",
    "import nltk\n",
    "import spacy\n",
    "import gensim\n",
    "from nltk.corpus import stopwords\n",
    "from nltk.tokenize import word_tokenize\n",
    "from nltk.sentiment import SentimentIntensityAnalyzer\n",
    "from sklearn.feature_extraction.text import CountVectorizer\n",
    "from gensim import corpora\n",
    "from transformers import BartTokenizer\n",
    "from openai import OpenAI"
   ]
  },
  {
   "cell_type": "code",
   "execution_count": 3,
   "id": "6a79fe63-34fa-4563-98bb-44b99ab8611d",
   "metadata": {
    "colab": {
     "base_uri": "https://localhost:8080/"
    },
    "executionInfo": {
     "elapsed": 6522,
     "status": "ok",
     "timestamp": 1731854768471,
     "user": {
      "displayName": "Chijo Nyacigak",
      "userId": "12700575378002708673"
     },
     "user_tz": -180
    },
    "id": "6a79fe63-34fa-4563-98bb-44b99ab8611d",
    "outputId": "d52dfd89-b98e-4183-cd78-64370ebb1993"
   },
   "outputs": [
    {
     "name": "stdout",
     "output_type": "stream",
     "text": [
      "[{'reviewerID': 'A30TL5EWN6DFXT', 'asin': '120401325X', 'reviewerName': 'christina', 'helpful': [0, 0], 'reviewText': \"They look good and stick good! I just don't like the rounded shape because I was always bumping it and Siri kept popping up and it was irritating. I just won't buy a product like this again\", 'overall': 4.0, 'summary': 'Looks Good', 'unixReviewTime': 1400630400, 'reviewTime': '05 21, 2014'}, {'reviewerID': 'ASY55RVNIL0UD', 'asin': '120401325X', 'reviewerName': 'emily l.', 'helpful': [0, 0], 'reviewText': 'These stickers work like the review says they do. They stick on great and they stay on the phone. They are super stylish and I can share them with my sister. :)', 'overall': 5.0, 'summary': 'Really great product.', 'unixReviewTime': 1389657600, 'reviewTime': '01 14, 2014'}, {'reviewerID': 'A2TMXE2AFO7ONB', 'asin': '120401325X', 'reviewerName': 'Erica', 'helpful': [0, 0], 'reviewText': 'These are awesome and make my phone look so stylish! I have only used one so far and have had it on for almost a year! CAN YOU BELIEVE THAT! ONE YEAR!! Great quality!', 'overall': 5.0, 'summary': 'LOVE LOVE LOVE', 'unixReviewTime': 1403740800, 'reviewTime': '06 26, 2014'}, {'reviewerID': 'AWJ0WZQYMYFQ4', 'asin': '120401325X', 'reviewerName': 'JM', 'helpful': [4, 4], 'reviewText': \"Item arrived in great time and was in perfect condition. However, I ordered these buttons because they were a great deal and included a FREE screen protector. I never received one. Though its not a big deal, it would've been nice to get it since they claim it comes with one.\", 'overall': 4.0, 'summary': 'Cute!', 'unixReviewTime': 1382313600, 'reviewTime': '10 21, 2013'}, {'reviewerID': 'ATX7CZYFXI1KW', 'asin': '120401325X', 'reviewerName': 'patrice m rogoza', 'helpful': [2, 3], 'reviewText': 'awesome! stays on, and looks great. can be used on multiple apple products.  especially having nails, it helps to have an elevated key.', 'overall': 5.0, 'summary': 'leopard home button sticker for iphone 4s', 'unixReviewTime': 1359849600, 'reviewTime': '02 3, 2013'}]\n"
     ]
    }
   ],
   "source": [
    "\n",
    "data = []\n",
    "\n",
    "# Open and read the JSON Lines file\n",
    "with open('datasets/Cell_Phones_and_Accessories_5.json', 'r') as file:\n",
    "    for line in file:\n",
    "        # Parse each line as a JSON object and append it to the list\n",
    "        data.append(json.loads(line))\n",
    "\n",
    "\n",
    "print(data[:5])"
   ]
  },
  {
   "cell_type": "code",
   "execution_count": 4,
   "id": "982ccc11-aa3e-476d-b7ad-eb5fcaac7f36",
   "metadata": {
    "colab": {
     "base_uri": "https://localhost:8080/",
     "height": 241
    },
    "executionInfo": {
     "elapsed": 1768,
     "status": "ok",
     "timestamp": 1731854773515,
     "user": {
      "displayName": "Chijo Nyacigak",
      "userId": "12700575378002708673"
     },
     "user_tz": -180
    },
    "id": "982ccc11-aa3e-476d-b7ad-eb5fcaac7f36",
    "outputId": "35098c6d-6cb0-4728-ba17-ed286e7bd770"
   },
   "outputs": [
    {
     "data": {
      "text/html": [
       "<div>\n",
       "<style scoped>\n",
       "    .dataframe tbody tr th:only-of-type {\n",
       "        vertical-align: middle;\n",
       "    }\n",
       "\n",
       "    .dataframe tbody tr th {\n",
       "        vertical-align: top;\n",
       "    }\n",
       "\n",
       "    .dataframe thead th {\n",
       "        text-align: right;\n",
       "    }\n",
       "</style>\n",
       "<table border=\"1\" class=\"dataframe\">\n",
       "  <thead>\n",
       "    <tr style=\"text-align: right;\">\n",
       "      <th></th>\n",
       "      <th>reviewerID</th>\n",
       "      <th>asin</th>\n",
       "      <th>reviewerName</th>\n",
       "      <th>helpful</th>\n",
       "      <th>reviewText</th>\n",
       "      <th>overall</th>\n",
       "      <th>summary</th>\n",
       "      <th>unixReviewTime</th>\n",
       "      <th>reviewTime</th>\n",
       "    </tr>\n",
       "  </thead>\n",
       "  <tbody>\n",
       "    <tr>\n",
       "      <th>0</th>\n",
       "      <td>A30TL5EWN6DFXT</td>\n",
       "      <td>120401325X</td>\n",
       "      <td>christina</td>\n",
       "      <td>[0, 0]</td>\n",
       "      <td>They look good and stick good! I just don't li...</td>\n",
       "      <td>4.0</td>\n",
       "      <td>Looks Good</td>\n",
       "      <td>1400630400</td>\n",
       "      <td>05 21, 2014</td>\n",
       "    </tr>\n",
       "    <tr>\n",
       "      <th>1</th>\n",
       "      <td>ASY55RVNIL0UD</td>\n",
       "      <td>120401325X</td>\n",
       "      <td>emily l.</td>\n",
       "      <td>[0, 0]</td>\n",
       "      <td>These stickers work like the review says they ...</td>\n",
       "      <td>5.0</td>\n",
       "      <td>Really great product.</td>\n",
       "      <td>1389657600</td>\n",
       "      <td>01 14, 2014</td>\n",
       "    </tr>\n",
       "    <tr>\n",
       "      <th>2</th>\n",
       "      <td>A2TMXE2AFO7ONB</td>\n",
       "      <td>120401325X</td>\n",
       "      <td>Erica</td>\n",
       "      <td>[0, 0]</td>\n",
       "      <td>These are awesome and make my phone look so st...</td>\n",
       "      <td>5.0</td>\n",
       "      <td>LOVE LOVE LOVE</td>\n",
       "      <td>1403740800</td>\n",
       "      <td>06 26, 2014</td>\n",
       "    </tr>\n",
       "    <tr>\n",
       "      <th>3</th>\n",
       "      <td>AWJ0WZQYMYFQ4</td>\n",
       "      <td>120401325X</td>\n",
       "      <td>JM</td>\n",
       "      <td>[4, 4]</td>\n",
       "      <td>Item arrived in great time and was in perfect ...</td>\n",
       "      <td>4.0</td>\n",
       "      <td>Cute!</td>\n",
       "      <td>1382313600</td>\n",
       "      <td>10 21, 2013</td>\n",
       "    </tr>\n",
       "    <tr>\n",
       "      <th>4</th>\n",
       "      <td>ATX7CZYFXI1KW</td>\n",
       "      <td>120401325X</td>\n",
       "      <td>patrice m rogoza</td>\n",
       "      <td>[2, 3]</td>\n",
       "      <td>awesome! stays on, and looks great. can be use...</td>\n",
       "      <td>5.0</td>\n",
       "      <td>leopard home button sticker for iphone 4s</td>\n",
       "      <td>1359849600</td>\n",
       "      <td>02 3, 2013</td>\n",
       "    </tr>\n",
       "  </tbody>\n",
       "</table>\n",
       "</div>"
      ],
      "text/plain": [
       "       reviewerID        asin      reviewerName helpful  \\\n",
       "0  A30TL5EWN6DFXT  120401325X         christina  [0, 0]   \n",
       "1   ASY55RVNIL0UD  120401325X          emily l.  [0, 0]   \n",
       "2  A2TMXE2AFO7ONB  120401325X             Erica  [0, 0]   \n",
       "3   AWJ0WZQYMYFQ4  120401325X                JM  [4, 4]   \n",
       "4   ATX7CZYFXI1KW  120401325X  patrice m rogoza  [2, 3]   \n",
       "\n",
       "                                          reviewText  overall  \\\n",
       "0  They look good and stick good! I just don't li...      4.0   \n",
       "1  These stickers work like the review says they ...      5.0   \n",
       "2  These are awesome and make my phone look so st...      5.0   \n",
       "3  Item arrived in great time and was in perfect ...      4.0   \n",
       "4  awesome! stays on, and looks great. can be use...      5.0   \n",
       "\n",
       "                                     summary  unixReviewTime   reviewTime  \n",
       "0                                 Looks Good      1400630400  05 21, 2014  \n",
       "1                      Really great product.      1389657600  01 14, 2014  \n",
       "2                             LOVE LOVE LOVE      1403740800  06 26, 2014  \n",
       "3                                      Cute!      1382313600  10 21, 2013  \n",
       "4  leopard home button sticker for iphone 4s      1359849600   02 3, 2013  "
      ]
     },
     "execution_count": 4,
     "metadata": {},
     "output_type": "execute_result"
    }
   ],
   "source": [
    "amazon_reviews = pd.DataFrame(data)\n",
    "\n",
    "\n",
    "amazon_reviews.head()"
   ]
  },
  {
   "cell_type": "code",
   "execution_count": 5,
   "id": "59a12b88-e67a-402b-b07e-54d270e929ad",
   "metadata": {
    "colab": {
     "base_uri": "https://localhost:8080/"
    },
    "executionInfo": {
     "elapsed": 6,
     "status": "ok",
     "timestamp": 1731854777032,
     "user": {
      "displayName": "Chijo Nyacigak",
      "userId": "12700575378002708673"
     },
     "user_tz": -180
    },
    "id": "59a12b88-e67a-402b-b07e-54d270e929ad",
    "outputId": "698db8af-325f-4fbb-cd45-faa49477d395"
   },
   "outputs": [
    {
     "data": {
      "text/plain": [
       "Index(['reviewerID', 'asin', 'reviewerName', 'helpful', 'reviewText',\n",
       "       'overall', 'summary', 'unixReviewTime', 'reviewTime'],\n",
       "      dtype='object')"
      ]
     },
     "execution_count": 5,
     "metadata": {},
     "output_type": "execute_result"
    }
   ],
   "source": [
    "amazon_reviews.columns"
   ]
  },
  {
   "cell_type": "code",
   "execution_count": 6,
   "id": "4a13c40c-cb4c-4f54-a9db-5c100684f387",
   "metadata": {
    "colab": {
     "base_uri": "https://localhost:8080/"
    },
    "executionInfo": {
     "elapsed": 9,
     "status": "ok",
     "timestamp": 1731814074824,
     "user": {
      "displayName": "Chijo Nyacigak",
      "userId": "12700575378002708673"
     },
     "user_tz": -180
    },
    "id": "4a13c40c-cb4c-4f54-a9db-5c100684f387",
    "outputId": "bf006516-33d9-4518-e5fc-a3e965ec8fd9"
   },
   "outputs": [
    {
     "data": {
      "text/plain": [
       "(194439, 9)"
      ]
     },
     "execution_count": 6,
     "metadata": {},
     "output_type": "execute_result"
    }
   ],
   "source": [
    "amazon_reviews.shape"
   ]
  },
  {
   "cell_type": "code",
   "execution_count": 7,
   "id": "8bc536c7-5060-4e03-985c-e2a0263edf33",
   "metadata": {
    "colab": {
     "base_uri": "https://localhost:8080/",
     "height": 504
    },
    "executionInfo": {
     "elapsed": 10956,
     "status": "ok",
     "timestamp": 1731854793646,
     "user": {
      "displayName": "Chijo Nyacigak",
      "userId": "12700575378002708673"
     },
     "user_tz": -180
    },
    "id": "8bc536c7-5060-4e03-985c-e2a0263edf33",
    "outputId": "fbae2e0e-5132-447b-e3e5-771a962f35a5"
   },
   "outputs": [
    {
     "data": {
      "text/html": [
       "<div>\n",
       "<style scoped>\n",
       "    .dataframe tbody tr th:only-of-type {\n",
       "        vertical-align: middle;\n",
       "    }\n",
       "\n",
       "    .dataframe tbody tr th {\n",
       "        vertical-align: top;\n",
       "    }\n",
       "\n",
       "    .dataframe thead th {\n",
       "        text-align: right;\n",
       "    }\n",
       "</style>\n",
       "<table border=\"1\" class=\"dataframe\">\n",
       "  <thead>\n",
       "    <tr style=\"text-align: right;\">\n",
       "      <th></th>\n",
       "      <th>Unnamed: 0</th>\n",
       "      <th>author_id</th>\n",
       "      <th>rating</th>\n",
       "      <th>is_recommended</th>\n",
       "      <th>helpfulness</th>\n",
       "      <th>total_feedback_count</th>\n",
       "      <th>total_neg_feedback_count</th>\n",
       "      <th>total_pos_feedback_count</th>\n",
       "      <th>submission_time</th>\n",
       "      <th>review_text</th>\n",
       "      <th>review_title</th>\n",
       "      <th>skin_tone</th>\n",
       "      <th>eye_color</th>\n",
       "      <th>skin_type</th>\n",
       "      <th>hair_color</th>\n",
       "      <th>product_id</th>\n",
       "      <th>product_name</th>\n",
       "      <th>brand_name</th>\n",
       "      <th>price_usd</th>\n",
       "    </tr>\n",
       "  </thead>\n",
       "  <tbody>\n",
       "    <tr>\n",
       "      <th>0</th>\n",
       "      <td>0</td>\n",
       "      <td>1741593524</td>\n",
       "      <td>5</td>\n",
       "      <td>1.0</td>\n",
       "      <td>1.0</td>\n",
       "      <td>2</td>\n",
       "      <td>0</td>\n",
       "      <td>2</td>\n",
       "      <td>2023-02-01</td>\n",
       "      <td>I use this with the Nudestix “Citrus Clean Bal...</td>\n",
       "      <td>Taught me how to double cleanse!</td>\n",
       "      <td>NaN</td>\n",
       "      <td>brown</td>\n",
       "      <td>dry</td>\n",
       "      <td>black</td>\n",
       "      <td>P504322</td>\n",
       "      <td>Gentle Hydra-Gel Face Cleanser</td>\n",
       "      <td>NUDESTIX</td>\n",
       "      <td>19.0</td>\n",
       "    </tr>\n",
       "    <tr>\n",
       "      <th>1</th>\n",
       "      <td>1</td>\n",
       "      <td>31423088263</td>\n",
       "      <td>1</td>\n",
       "      <td>0.0</td>\n",
       "      <td>NaN</td>\n",
       "      <td>0</td>\n",
       "      <td>0</td>\n",
       "      <td>0</td>\n",
       "      <td>2023-03-21</td>\n",
       "      <td>I bought this lip mask after reading the revie...</td>\n",
       "      <td>Disappointed</td>\n",
       "      <td>NaN</td>\n",
       "      <td>NaN</td>\n",
       "      <td>NaN</td>\n",
       "      <td>NaN</td>\n",
       "      <td>P420652</td>\n",
       "      <td>Lip Sleeping Mask Intense Hydration with Vitam...</td>\n",
       "      <td>LANEIGE</td>\n",
       "      <td>24.0</td>\n",
       "    </tr>\n",
       "    <tr>\n",
       "      <th>2</th>\n",
       "      <td>2</td>\n",
       "      <td>5061282401</td>\n",
       "      <td>5</td>\n",
       "      <td>1.0</td>\n",
       "      <td>NaN</td>\n",
       "      <td>0</td>\n",
       "      <td>0</td>\n",
       "      <td>0</td>\n",
       "      <td>2023-03-21</td>\n",
       "      <td>My review title says it all! I get so excited ...</td>\n",
       "      <td>New Favorite Routine</td>\n",
       "      <td>light</td>\n",
       "      <td>brown</td>\n",
       "      <td>dry</td>\n",
       "      <td>blonde</td>\n",
       "      <td>P420652</td>\n",
       "      <td>Lip Sleeping Mask Intense Hydration with Vitam...</td>\n",
       "      <td>LANEIGE</td>\n",
       "      <td>24.0</td>\n",
       "    </tr>\n",
       "    <tr>\n",
       "      <th>3</th>\n",
       "      <td>3</td>\n",
       "      <td>6083038851</td>\n",
       "      <td>5</td>\n",
       "      <td>1.0</td>\n",
       "      <td>NaN</td>\n",
       "      <td>0</td>\n",
       "      <td>0</td>\n",
       "      <td>0</td>\n",
       "      <td>2023-03-20</td>\n",
       "      <td>I’ve always loved this formula for a long time...</td>\n",
       "      <td>Can't go wrong with any of them</td>\n",
       "      <td>NaN</td>\n",
       "      <td>brown</td>\n",
       "      <td>combination</td>\n",
       "      <td>black</td>\n",
       "      <td>P420652</td>\n",
       "      <td>Lip Sleeping Mask Intense Hydration with Vitam...</td>\n",
       "      <td>LANEIGE</td>\n",
       "      <td>24.0</td>\n",
       "    </tr>\n",
       "    <tr>\n",
       "      <th>4</th>\n",
       "      <td>4</td>\n",
       "      <td>47056667835</td>\n",
       "      <td>5</td>\n",
       "      <td>1.0</td>\n",
       "      <td>NaN</td>\n",
       "      <td>0</td>\n",
       "      <td>0</td>\n",
       "      <td>0</td>\n",
       "      <td>2023-03-20</td>\n",
       "      <td>If you have dry cracked lips, this is a must h...</td>\n",
       "      <td>A must have !!!</td>\n",
       "      <td>light</td>\n",
       "      <td>hazel</td>\n",
       "      <td>combination</td>\n",
       "      <td>NaN</td>\n",
       "      <td>P420652</td>\n",
       "      <td>Lip Sleeping Mask Intense Hydration with Vitam...</td>\n",
       "      <td>LANEIGE</td>\n",
       "      <td>24.0</td>\n",
       "    </tr>\n",
       "  </tbody>\n",
       "</table>\n",
       "</div>"
      ],
      "text/plain": [
       "   Unnamed: 0    author_id  rating  is_recommended  helpfulness  \\\n",
       "0           0   1741593524       5             1.0          1.0   \n",
       "1           1  31423088263       1             0.0          NaN   \n",
       "2           2   5061282401       5             1.0          NaN   \n",
       "3           3   6083038851       5             1.0          NaN   \n",
       "4           4  47056667835       5             1.0          NaN   \n",
       "\n",
       "   total_feedback_count  total_neg_feedback_count  total_pos_feedback_count  \\\n",
       "0                     2                         0                         2   \n",
       "1                     0                         0                         0   \n",
       "2                     0                         0                         0   \n",
       "3                     0                         0                         0   \n",
       "4                     0                         0                         0   \n",
       "\n",
       "  submission_time                                        review_text  \\\n",
       "0      2023-02-01  I use this with the Nudestix “Citrus Clean Bal...   \n",
       "1      2023-03-21  I bought this lip mask after reading the revie...   \n",
       "2      2023-03-21  My review title says it all! I get so excited ...   \n",
       "3      2023-03-20  I’ve always loved this formula for a long time...   \n",
       "4      2023-03-20  If you have dry cracked lips, this is a must h...   \n",
       "\n",
       "                       review_title skin_tone eye_color    skin_type  \\\n",
       "0  Taught me how to double cleanse!       NaN     brown          dry   \n",
       "1                      Disappointed       NaN       NaN          NaN   \n",
       "2              New Favorite Routine     light     brown          dry   \n",
       "3   Can't go wrong with any of them       NaN     brown  combination   \n",
       "4                   A must have !!!     light     hazel  combination   \n",
       "\n",
       "  hair_color product_id                                       product_name  \\\n",
       "0      black    P504322                     Gentle Hydra-Gel Face Cleanser   \n",
       "1        NaN    P420652  Lip Sleeping Mask Intense Hydration with Vitam...   \n",
       "2     blonde    P420652  Lip Sleeping Mask Intense Hydration with Vitam...   \n",
       "3      black    P420652  Lip Sleeping Mask Intense Hydration with Vitam...   \n",
       "4        NaN    P420652  Lip Sleeping Mask Intense Hydration with Vitam...   \n",
       "\n",
       "  brand_name  price_usd  \n",
       "0   NUDESTIX       19.0  \n",
       "1    LANEIGE       24.0  \n",
       "2    LANEIGE       24.0  \n",
       "3    LANEIGE       24.0  \n",
       "4    LANEIGE       24.0  "
      ]
     },
     "execution_count": 7,
     "metadata": {},
     "output_type": "execute_result"
    }
   ],
   "source": [
    "sephora_reviews = pd.read_csv(\"datasets/reviews_0-250.csv\", low_memory=False)\n",
    "\n",
    "sephora_reviews.head()"
   ]
  },
  {
   "cell_type": "code",
   "execution_count": 8,
   "id": "18e7fdc7-ec98-47cb-a1c9-de92bcc1b6d3",
   "metadata": {
    "colab": {
     "base_uri": "https://localhost:8080/"
    },
    "executionInfo": {
     "elapsed": 454,
     "status": "ok",
     "timestamp": 1731854800894,
     "user": {
      "displayName": "Chijo Nyacigak",
      "userId": "12700575378002708673"
     },
     "user_tz": -180
    },
    "id": "18e7fdc7-ec98-47cb-a1c9-de92bcc1b6d3",
    "outputId": "e4a73925-fcb1-4ca5-b273-ff940346ac70"
   },
   "outputs": [
    {
     "data": {
      "text/plain": [
       "(602130, 19)"
      ]
     },
     "execution_count": 8,
     "metadata": {},
     "output_type": "execute_result"
    }
   ],
   "source": [
    "sephora_reviews.shape"
   ]
  },
  {
   "cell_type": "code",
   "execution_count": 9,
   "id": "9453aeb1-3638-4917-a89a-bc745ca07914",
   "metadata": {
    "colab": {
     "base_uri": "https://localhost:8080/"
    },
    "executionInfo": {
     "elapsed": 10,
     "status": "ok",
     "timestamp": 1731854804555,
     "user": {
      "displayName": "Chijo Nyacigak",
      "userId": "12700575378002708673"
     },
     "user_tz": -180
    },
    "id": "9453aeb1-3638-4917-a89a-bc745ca07914",
    "outputId": "1b58a597-f5b5-49a7-a979-c50d958e4499"
   },
   "outputs": [
    {
     "data": {
      "text/plain": [
       "Index(['Unnamed: 0', 'author_id', 'rating', 'is_recommended', 'helpfulness',\n",
       "       'total_feedback_count', 'total_neg_feedback_count',\n",
       "       'total_pos_feedback_count', 'submission_time', 'review_text',\n",
       "       'review_title', 'skin_tone', 'eye_color', 'skin_type', 'hair_color',\n",
       "       'product_id', 'product_name', 'brand_name', 'price_usd'],\n",
       "      dtype='object')"
      ]
     },
     "execution_count": 9,
     "metadata": {},
     "output_type": "execute_result"
    }
   ],
   "source": [
    "sephora_reviews.columns"
   ]
  },
  {
   "cell_type": "code",
   "execution_count": 10,
   "id": "e18839ad-0703-4fc3-9200-9eab77ff4f92",
   "metadata": {
    "colab": {
     "base_uri": "https://localhost:8080/",
     "height": 310
    },
    "executionInfo": {
     "elapsed": 1020,
     "status": "ok",
     "timestamp": 1731854809052,
     "user": {
      "displayName": "Chijo Nyacigak",
      "userId": "12700575378002708673"
     },
     "user_tz": -180
    },
    "id": "e18839ad-0703-4fc3-9200-9eab77ff4f92",
    "outputId": "339b29e1-d7f0-4c63-b04c-f03c2940168a"
   },
   "outputs": [
    {
     "data": {
      "text/html": [
       "<div>\n",
       "<style scoped>\n",
       "    .dataframe tbody tr th:only-of-type {\n",
       "        vertical-align: middle;\n",
       "    }\n",
       "\n",
       "    .dataframe tbody tr th {\n",
       "        vertical-align: top;\n",
       "    }\n",
       "\n",
       "    .dataframe thead th {\n",
       "        text-align: right;\n",
       "    }\n",
       "</style>\n",
       "<table border=\"1\" class=\"dataframe\">\n",
       "  <thead>\n",
       "    <tr style=\"text-align: right;\">\n",
       "      <th></th>\n",
       "      <th>Unnamed: 0</th>\n",
       "      <th>Clothing ID</th>\n",
       "      <th>Age</th>\n",
       "      <th>Title</th>\n",
       "      <th>Review Text</th>\n",
       "      <th>Rating</th>\n",
       "      <th>Recommended IND</th>\n",
       "      <th>Positive Feedback Count</th>\n",
       "      <th>Division Name</th>\n",
       "      <th>Department Name</th>\n",
       "      <th>Class Name</th>\n",
       "    </tr>\n",
       "  </thead>\n",
       "  <tbody>\n",
       "    <tr>\n",
       "      <th>0</th>\n",
       "      <td>0</td>\n",
       "      <td>767</td>\n",
       "      <td>33</td>\n",
       "      <td>NaN</td>\n",
       "      <td>Absolutely wonderful - silky and sexy and comf...</td>\n",
       "      <td>4</td>\n",
       "      <td>1</td>\n",
       "      <td>0</td>\n",
       "      <td>Initmates</td>\n",
       "      <td>Intimate</td>\n",
       "      <td>Intimates</td>\n",
       "    </tr>\n",
       "    <tr>\n",
       "      <th>1</th>\n",
       "      <td>1</td>\n",
       "      <td>1080</td>\n",
       "      <td>34</td>\n",
       "      <td>NaN</td>\n",
       "      <td>Love this dress!  it's sooo pretty.  i happene...</td>\n",
       "      <td>5</td>\n",
       "      <td>1</td>\n",
       "      <td>4</td>\n",
       "      <td>General</td>\n",
       "      <td>Dresses</td>\n",
       "      <td>Dresses</td>\n",
       "    </tr>\n",
       "    <tr>\n",
       "      <th>2</th>\n",
       "      <td>2</td>\n",
       "      <td>1077</td>\n",
       "      <td>60</td>\n",
       "      <td>Some major design flaws</td>\n",
       "      <td>I had such high hopes for this dress and reall...</td>\n",
       "      <td>3</td>\n",
       "      <td>0</td>\n",
       "      <td>0</td>\n",
       "      <td>General</td>\n",
       "      <td>Dresses</td>\n",
       "      <td>Dresses</td>\n",
       "    </tr>\n",
       "    <tr>\n",
       "      <th>3</th>\n",
       "      <td>3</td>\n",
       "      <td>1049</td>\n",
       "      <td>50</td>\n",
       "      <td>My favorite buy!</td>\n",
       "      <td>I love, love, love this jumpsuit. it's fun, fl...</td>\n",
       "      <td>5</td>\n",
       "      <td>1</td>\n",
       "      <td>0</td>\n",
       "      <td>General Petite</td>\n",
       "      <td>Bottoms</td>\n",
       "      <td>Pants</td>\n",
       "    </tr>\n",
       "    <tr>\n",
       "      <th>4</th>\n",
       "      <td>4</td>\n",
       "      <td>847</td>\n",
       "      <td>47</td>\n",
       "      <td>Flattering shirt</td>\n",
       "      <td>This shirt is very flattering to all due to th...</td>\n",
       "      <td>5</td>\n",
       "      <td>1</td>\n",
       "      <td>6</td>\n",
       "      <td>General</td>\n",
       "      <td>Tops</td>\n",
       "      <td>Blouses</td>\n",
       "    </tr>\n",
       "  </tbody>\n",
       "</table>\n",
       "</div>"
      ],
      "text/plain": [
       "   Unnamed: 0  Clothing ID  Age                    Title  \\\n",
       "0           0          767   33                      NaN   \n",
       "1           1         1080   34                      NaN   \n",
       "2           2         1077   60  Some major design flaws   \n",
       "3           3         1049   50         My favorite buy!   \n",
       "4           4          847   47         Flattering shirt   \n",
       "\n",
       "                                         Review Text  Rating  Recommended IND  \\\n",
       "0  Absolutely wonderful - silky and sexy and comf...       4                1   \n",
       "1  Love this dress!  it's sooo pretty.  i happene...       5                1   \n",
       "2  I had such high hopes for this dress and reall...       3                0   \n",
       "3  I love, love, love this jumpsuit. it's fun, fl...       5                1   \n",
       "4  This shirt is very flattering to all due to th...       5                1   \n",
       "\n",
       "   Positive Feedback Count   Division Name Department Name Class Name  \n",
       "0                        0       Initmates        Intimate  Intimates  \n",
       "1                        4         General         Dresses    Dresses  \n",
       "2                        0         General         Dresses    Dresses  \n",
       "3                        0  General Petite         Bottoms      Pants  \n",
       "4                        6         General            Tops    Blouses  "
      ]
     },
     "execution_count": 10,
     "metadata": {},
     "output_type": "execute_result"
    }
   ],
   "source": [
    "clothing_reviews = pd.read_csv(\"datasets/Womens Clothing E-Commerce Reviews.csv\")\n",
    "clothing_reviews.head()"
   ]
  },
  {
   "cell_type": "code",
   "execution_count": 11,
   "id": "69f997f9-41d6-4f5d-8e8b-5791dca89e5d",
   "metadata": {
    "colab": {
     "base_uri": "https://localhost:8080/"
    },
    "executionInfo": {
     "elapsed": 493,
     "status": "ok",
     "timestamp": 1731854819279,
     "user": {
      "displayName": "Chijo Nyacigak",
      "userId": "12700575378002708673"
     },
     "user_tz": -180
    },
    "id": "69f997f9-41d6-4f5d-8e8b-5791dca89e5d",
    "outputId": "46c21d2e-7314-4869-c74e-238f7d194620"
   },
   "outputs": [
    {
     "data": {
      "text/plain": [
       "Index(['Unnamed: 0', 'Clothing ID', 'Age', 'Title', 'Review Text', 'Rating',\n",
       "       'Recommended IND', 'Positive Feedback Count', 'Division Name',\n",
       "       'Department Name', 'Class Name'],\n",
       "      dtype='object')"
      ]
     },
     "execution_count": 11,
     "metadata": {},
     "output_type": "execute_result"
    }
   ],
   "source": [
    "clothing_reviews.columns"
   ]
  },
  {
   "cell_type": "code",
   "execution_count": 12,
   "id": "596cda45-3de8-46c0-952d-c72ae11b72a0",
   "metadata": {
    "colab": {
     "base_uri": "https://localhost:8080/"
    },
    "executionInfo": {
     "elapsed": 613,
     "status": "ok",
     "timestamp": 1731854823600,
     "user": {
      "displayName": "Chijo Nyacigak",
      "userId": "12700575378002708673"
     },
     "user_tz": -180
    },
    "id": "596cda45-3de8-46c0-952d-c72ae11b72a0",
    "outputId": "0cf738fb-bbd1-4435-9169-0e0dfad2f372"
   },
   "outputs": [
    {
     "data": {
      "text/plain": [
       "(23486, 11)"
      ]
     },
     "execution_count": 12,
     "metadata": {},
     "output_type": "execute_result"
    }
   ],
   "source": [
    "clothing_reviews.shape"
   ]
  },
  {
   "cell_type": "markdown",
   "id": "7d6d89d8-d1de-45ce-a187-5d2e49f2eedb",
   "metadata": {
    "id": "7d6d89d8-d1de-45ce-a187-5d2e49f2eedb"
   },
   "source": [
    "## Organizing and storing data into one file"
   ]
  },
  {
   "cell_type": "code",
   "execution_count": 13,
   "id": "adae4915-912e-4039-834c-604a66b976c5",
   "metadata": {
    "executionInfo": {
     "elapsed": 10,
     "status": "ok",
     "timestamp": 1731854825622,
     "user": {
      "displayName": "Chijo Nyacigak",
      "userId": "12700575378002708673"
     },
     "user_tz": -180
    },
    "id": "adae4915-912e-4039-834c-604a66b976c5"
   },
   "outputs": [],
   "source": [
    "# renaming the columns to match new dataframe of all the combined dataset\n",
    "amazon_reviews = amazon_reviews.rename(columns={\n",
    "    'reviewerID': 'review_id',\n",
    "    'reviewText': 'review_text',\n",
    "    'overall': 'rating',\n",
    "    'asin': 'product_id',\n",
    "    'summary': 'review_title',\n",
    "    'reviewTime': 'review_date'\n",
    "})"
   ]
  },
  {
   "cell_type": "code",
   "execution_count": 14,
   "id": "c4dc53b9-7560-4e5d-bb12-a9009f4f7352",
   "metadata": {
    "executionInfo": {
     "elapsed": 438,
     "status": "ok",
     "timestamp": 1731854827929,
     "user": {
      "displayName": "Chijo Nyacigak",
      "userId": "12700575378002708673"
     },
     "user_tz": -180
    },
    "id": "c4dc53b9-7560-4e5d-bb12-a9009f4f7352"
   },
   "outputs": [],
   "source": [
    "# add product category column\n",
    "amazon_reviews['product_category'] = 'cellphones and accessories'\n",
    "\n",
    "# add column to show source of review\n",
    "amazon_reviews['source'] = 'Amazon'"
   ]
  },
  {
   "cell_type": "code",
   "execution_count": 15,
   "id": "9e5847cf-c746-48d4-b68b-cf68a91f2222",
   "metadata": {
    "executionInfo": {
     "elapsed": 450,
     "status": "ok",
     "timestamp": 1731854829804,
     "user": {
      "displayName": "Chijo Nyacigak",
      "userId": "12700575378002708673"
     },
     "user_tz": -180
    },
    "id": "9e5847cf-c746-48d4-b68b-cf68a91f2222"
   },
   "outputs": [],
   "source": [
    "amazon_reviews = amazon_reviews[['review_id', 'review_text','review_title', 'rating', 'product_id', 'review_date', 'product_category', 'source']]"
   ]
  },
  {
   "cell_type": "code",
   "execution_count": 16,
   "id": "4874e611-77e0-4d38-bcc0-2e3551d5b0a3",
   "metadata": {
    "colab": {
     "base_uri": "https://localhost:8080/",
     "height": 335
    },
    "executionInfo": {
     "elapsed": 504,
     "status": "ok",
     "timestamp": 1731854832035,
     "user": {
      "displayName": "Chijo Nyacigak",
      "userId": "12700575378002708673"
     },
     "user_tz": -180
    },
    "id": "4874e611-77e0-4d38-bcc0-2e3551d5b0a3",
    "outputId": "ccb82719-2d0b-4361-a20e-60762d2b8112"
   },
   "outputs": [
    {
     "data": {
      "text/plain": [
       "review_id           0\n",
       "review_text         0\n",
       "review_title        0\n",
       "rating              0\n",
       "product_id          0\n",
       "review_date         0\n",
       "product_category    0\n",
       "source              0\n",
       "dtype: int64"
      ]
     },
     "execution_count": 16,
     "metadata": {},
     "output_type": "execute_result"
    }
   ],
   "source": [
    "# check for missing values\n",
    "amazon_reviews.isnull().sum()"
   ]
  },
  {
   "cell_type": "code",
   "execution_count": 17,
   "id": "e664b91b-140d-4ed5-bee6-7f1cbba03e10",
   "metadata": {
    "colab": {
     "base_uri": "https://localhost:8080/"
    },
    "executionInfo": {
     "elapsed": 633,
     "status": "ok",
     "timestamp": 1731854835362,
     "user": {
      "displayName": "Chijo Nyacigak",
      "userId": "12700575378002708673"
     },
     "user_tz": -180
    },
    "id": "e664b91b-140d-4ed5-bee6-7f1cbba03e10",
    "outputId": "a3ebe34b-6830-481c-a9db-8326bbb83a9e"
   },
   "outputs": [
    {
     "name": "stdout",
     "output_type": "stream",
     "text": [
      "<class 'pandas.core.frame.DataFrame'>\n",
      "RangeIndex: 194439 entries, 0 to 194438\n",
      "Data columns (total 8 columns):\n",
      " #   Column            Non-Null Count   Dtype  \n",
      "---  ------            --------------   -----  \n",
      " 0   review_id         194439 non-null  object \n",
      " 1   review_text       194439 non-null  object \n",
      " 2   review_title      194439 non-null  object \n",
      " 3   rating            194439 non-null  float64\n",
      " 4   product_id        194439 non-null  object \n",
      " 5   review_date       194439 non-null  object \n",
      " 6   product_category  194439 non-null  object \n",
      " 7   source            194439 non-null  object \n",
      "dtypes: float64(1), object(7)\n",
      "memory usage: 11.9+ MB\n"
     ]
    }
   ],
   "source": [
    "amazon_reviews.info()"
   ]
  },
  {
   "cell_type": "code",
   "execution_count": 18,
   "id": "014a5169-430a-421e-99c8-cd4c619f05f8",
   "metadata": {
    "colab": {
     "base_uri": "https://localhost:8080/",
     "height": 241
    },
    "executionInfo": {
     "elapsed": 14,
     "status": "ok",
     "timestamp": 1731854836829,
     "user": {
      "displayName": "Chijo Nyacigak",
      "userId": "12700575378002708673"
     },
     "user_tz": -180
    },
    "id": "014a5169-430a-421e-99c8-cd4c619f05f8",
    "outputId": "2e00126a-6ffe-4736-b4b3-4ebaf3a05e98"
   },
   "outputs": [
    {
     "data": {
      "text/plain": [
       "0    05 21, 2014\n",
       "1    01 14, 2014\n",
       "2    06 26, 2014\n",
       "3    10 21, 2013\n",
       "4     02 3, 2013\n",
       "Name: review_date, dtype: object"
      ]
     },
     "execution_count": 18,
     "metadata": {},
     "output_type": "execute_result"
    }
   ],
   "source": [
    "amazon_reviews['review_date'].head()"
   ]
  },
  {
   "cell_type": "code",
   "execution_count": 19,
   "id": "b362618a-22cb-4cb4-b514-a765619bafb9",
   "metadata": {
    "executionInfo": {
     "elapsed": 900,
     "status": "ok",
     "timestamp": 1731854840375,
     "user": {
      "displayName": "Chijo Nyacigak",
      "userId": "12700575378002708673"
     },
     "user_tz": -180
    },
    "id": "b362618a-22cb-4cb4-b514-a765619bafb9"
   },
   "outputs": [],
   "source": [
    "# Convert amazon_reviews['review_date'] with a specified format\n",
    "\n",
    "amazon_reviews.loc[:, 'review_date'] = pd.to_datetime(amazon_reviews['review_date'], format=\"%m %d, %Y\", errors='coerce')"
   ]
  },
  {
   "cell_type": "code",
   "execution_count": 20,
   "id": "f7e2517d-1314-4ac1-9519-02343af6dba0",
   "metadata": {
    "colab": {
     "base_uri": "https://localhost:8080/",
     "height": 241
    },
    "executionInfo": {
     "elapsed": 13,
     "status": "ok",
     "timestamp": 1731854841855,
     "user": {
      "displayName": "Chijo Nyacigak",
      "userId": "12700575378002708673"
     },
     "user_tz": -180
    },
    "id": "f7e2517d-1314-4ac1-9519-02343af6dba0",
    "outputId": "951458cb-5a9d-4276-e24f-8859e31d3258"
   },
   "outputs": [
    {
     "data": {
      "text/plain": [
       "0    2014-05-21 00:00:00\n",
       "1    2014-01-14 00:00:00\n",
       "2    2014-06-26 00:00:00\n",
       "3    2013-10-21 00:00:00\n",
       "4    2013-02-03 00:00:00\n",
       "Name: review_date, dtype: object"
      ]
     },
     "execution_count": 20,
     "metadata": {},
     "output_type": "execute_result"
    }
   ],
   "source": [
    "amazon_reviews['review_date'].head()"
   ]
  },
  {
   "cell_type": "code",
   "execution_count": 21,
   "id": "6d857742-4039-4fa2-bb50-9179bf2619cd",
   "metadata": {
    "colab": {
     "base_uri": "https://localhost:8080/"
    },
    "executionInfo": {
     "elapsed": 6,
     "status": "ok",
     "timestamp": 1731854844403,
     "user": {
      "displayName": "Chijo Nyacigak",
      "userId": "12700575378002708673"
     },
     "user_tz": -180
    },
    "id": "6d857742-4039-4fa2-bb50-9179bf2619cd",
    "outputId": "d26dfda7-6fc9-4dd3-d93e-d3484521ee6d"
   },
   "outputs": [
    {
     "data": {
      "text/plain": [
       "0"
      ]
     },
     "execution_count": 21,
     "metadata": {},
     "output_type": "execute_result"
    }
   ],
   "source": [
    "amazon_reviews['review_date'].isna().sum()"
   ]
  },
  {
   "cell_type": "code",
   "execution_count": 22,
   "id": "914099e7-9293-4f5d-a408-9c1f1ea1ca9f",
   "metadata": {
    "executionInfo": {
     "elapsed": 648,
     "status": "ok",
     "timestamp": 1731854846744,
     "user": {
      "displayName": "Chijo Nyacigak",
      "userId": "12700575378002708673"
     },
     "user_tz": -180
    },
    "id": "914099e7-9293-4f5d-a408-9c1f1ea1ca9f"
   },
   "outputs": [],
   "source": [
    "# renaming the columns to match new dataframe of all the combined dataset\n",
    "sephora_reviews = sephora_reviews.rename(columns={\n",
    "    'author_id': 'review_id',\n",
    "    'review_text': 'review_text',\n",
    "    'rating': 'rating',\n",
    "    'submission_time': 'review_date',\n",
    "    'product_name': 'product_name'\n",
    "\n",
    "})"
   ]
  },
  {
   "cell_type": "code",
   "execution_count": 23,
   "id": "bad0434d-b710-498d-b57c-4dd9aa1598d0",
   "metadata": {
    "executionInfo": {
     "elapsed": 462,
     "status": "ok",
     "timestamp": 1731854849160,
     "user": {
      "displayName": "Chijo Nyacigak",
      "userId": "12700575378002708673"
     },
     "user_tz": -180
    },
    "id": "bad0434d-b710-498d-b57c-4dd9aa1598d0"
   },
   "outputs": [],
   "source": [
    "# add new categories\n",
    "sephora_reviews['product_category'] = 'skincare'\n",
    "\n",
    "sephora_reviews['source'] = 'Sephora'"
   ]
  },
  {
   "cell_type": "code",
   "execution_count": 24,
   "id": "28aa7226-06a7-43aa-b790-ca72fb52c533",
   "metadata": {
    "executionInfo": {
     "elapsed": 9,
     "status": "ok",
     "timestamp": 1731854851437,
     "user": {
      "displayName": "Chijo Nyacigak",
      "userId": "12700575378002708673"
     },
     "user_tz": -180
    },
    "id": "28aa7226-06a7-43aa-b790-ca72fb52c533"
   },
   "outputs": [],
   "source": [
    "# Select target columns\n",
    "sephora_reviews = sephora_reviews[['review_id', 'review_text','review_title', 'rating', 'product_id', 'review_date', 'product_category', 'source']]\n"
   ]
  },
  {
   "cell_type": "code",
   "execution_count": 25,
   "id": "2e10a021-1a30-47cc-a137-0cf723804495",
   "metadata": {
    "colab": {
     "base_uri": "https://localhost:8080/",
     "height": 241
    },
    "executionInfo": {
     "elapsed": 15,
     "status": "ok",
     "timestamp": 1731854853103,
     "user": {
      "displayName": "Chijo Nyacigak",
      "userId": "12700575378002708673"
     },
     "user_tz": -180
    },
    "id": "2e10a021-1a30-47cc-a137-0cf723804495",
    "outputId": "50577f57-4d50-479d-c4cf-8981452cf8b1"
   },
   "outputs": [
    {
     "data": {
      "text/plain": [
       "0    2023-02-01\n",
       "1    2023-03-21\n",
       "2    2023-03-21\n",
       "3    2023-03-20\n",
       "4    2023-03-20\n",
       "Name: review_date, dtype: object"
      ]
     },
     "execution_count": 25,
     "metadata": {},
     "output_type": "execute_result"
    }
   ],
   "source": [
    "sephora_reviews['review_date'].head()"
   ]
  },
  {
   "cell_type": "code",
   "execution_count": 26,
   "id": "90ae8541-3f48-49c6-afc4-d75155be8310",
   "metadata": {
    "executionInfo": {
     "elapsed": 473,
     "status": "ok",
     "timestamp": 1731854859086,
     "user": {
      "displayName": "Chijo Nyacigak",
      "userId": "12700575378002708673"
     },
     "user_tz": -180
    },
    "id": "90ae8541-3f48-49c6-afc4-d75155be8310"
   },
   "outputs": [],
   "source": [
    "# e-commerce clothing store\n",
    "clothing_reviews = clothing_reviews.rename(columns={\n",
    "    'Clothing ID': 'product_id',\n",
    "    'Review Text': 'review_text',\n",
    "    'Rating': 'rating',\n",
    "    'Department Name': 'product_category',\n",
    "    'Title': 'review_title'\n",
    "})"
   ]
  },
  {
   "cell_type": "code",
   "execution_count": 27,
   "id": "8025c4a1-d023-4fc0-8422-0f023d1193c4",
   "metadata": {
    "executionInfo": {
     "elapsed": 743,
     "status": "ok",
     "timestamp": 1731854862618,
     "user": {
      "displayName": "Chijo Nyacigak",
      "userId": "12700575378002708673"
     },
     "user_tz": -180
    },
    "id": "8025c4a1-d023-4fc0-8422-0f023d1193c4"
   },
   "outputs": [],
   "source": [
    "# add new categories\n",
    "clothing_reviews['source'] = 'E-commerce Clothing Store'\n"
   ]
  },
  {
   "cell_type": "code",
   "execution_count": 28,
   "id": "b8da0c82-f2a4-4b3a-a918-1cbd88d92f24",
   "metadata": {
    "executionInfo": {
     "elapsed": 741,
     "status": "ok",
     "timestamp": 1731854864858,
     "user": {
      "displayName": "Chijo Nyacigak",
      "userId": "12700575378002708673"
     },
     "user_tz": -180
    },
    "id": "b8da0c82-f2a4-4b3a-a918-1cbd88d92f24"
   },
   "outputs": [],
   "source": [
    "# Generate a unique review_id for each review\n",
    "clothing_reviews['review_id'] = [str(uuid.uuid4()) for _ in range(len(clothing_reviews))]"
   ]
  },
  {
   "cell_type": "code",
   "execution_count": 29,
   "id": "d3c3b020-906d-4ebb-970d-f0c2d8ccee61",
   "metadata": {
    "executionInfo": {
     "elapsed": 5,
     "status": "ok",
     "timestamp": 1731854866513,
     "user": {
      "displayName": "Chijo Nyacigak",
      "userId": "12700575378002708673"
     },
     "user_tz": -180
    },
    "id": "d3c3b020-906d-4ebb-970d-f0c2d8ccee61"
   },
   "outputs": [],
   "source": [
    "# Add a fixed review_date\n",
    "fixed_review_date = '2019-05-23'\n",
    "\n",
    "# add review date column\n",
    "clothing_reviews['review_date'] = fixed_review_date"
   ]
  },
  {
   "cell_type": "code",
   "execution_count": 30,
   "id": "b7021cff-2dd6-4ca3-a104-48fee89da7af",
   "metadata": {
    "colab": {
     "base_uri": "https://localhost:8080/",
     "height": 241
    },
    "executionInfo": {
     "elapsed": 17,
     "status": "ok",
     "timestamp": 1731854868339,
     "user": {
      "displayName": "Chijo Nyacigak",
      "userId": "12700575378002708673"
     },
     "user_tz": -180
    },
    "id": "b7021cff-2dd6-4ca3-a104-48fee89da7af",
    "outputId": "a4bb75a8-555b-4410-b542-bbf8304e2628"
   },
   "outputs": [
    {
     "data": {
      "text/plain": [
       "0    2019-05-23\n",
       "1    2019-05-23\n",
       "2    2019-05-23\n",
       "3    2019-05-23\n",
       "4    2019-05-23\n",
       "Name: review_date, dtype: object"
      ]
     },
     "execution_count": 30,
     "metadata": {},
     "output_type": "execute_result"
    }
   ],
   "source": [
    "clothing_reviews['review_date'].head()"
   ]
  },
  {
   "cell_type": "code",
   "execution_count": 31,
   "id": "76b67716-554b-45a0-af2f-5ffc0201b44d",
   "metadata": {
    "executionInfo": {
     "elapsed": 731,
     "status": "ok",
     "timestamp": 1731854871747,
     "user": {
      "displayName": "Chijo Nyacigak",
      "userId": "12700575378002708673"
     },
     "user_tz": -180
    },
    "id": "76b67716-554b-45a0-af2f-5ffc0201b44d"
   },
   "outputs": [],
   "source": [
    "# Select target columns\n",
    "clothing_reviews = clothing_reviews[['review_id', 'review_text','review_title', 'rating', 'product_id', 'review_date', 'product_category', 'source']]"
   ]
  },
  {
   "cell_type": "code",
   "execution_count": 32,
   "id": "31df7b6b-26e8-496e-a021-2b5f525846af",
   "metadata": {
    "colab": {
     "base_uri": "https://localhost:8080/",
     "height": 293
    },
    "executionInfo": {
     "elapsed": 12,
     "status": "ok",
     "timestamp": 1731854873799,
     "user": {
      "displayName": "Chijo Nyacigak",
      "userId": "12700575378002708673"
     },
     "user_tz": -180
    },
    "id": "31df7b6b-26e8-496e-a021-2b5f525846af",
    "outputId": "fdff58fd-4276-44ba-a728-ef874614b712"
   },
   "outputs": [
    {
     "data": {
      "text/html": [
       "<div>\n",
       "<style scoped>\n",
       "    .dataframe tbody tr th:only-of-type {\n",
       "        vertical-align: middle;\n",
       "    }\n",
       "\n",
       "    .dataframe tbody tr th {\n",
       "        vertical-align: top;\n",
       "    }\n",
       "\n",
       "    .dataframe thead th {\n",
       "        text-align: right;\n",
       "    }\n",
       "</style>\n",
       "<table border=\"1\" class=\"dataframe\">\n",
       "  <thead>\n",
       "    <tr style=\"text-align: right;\">\n",
       "      <th></th>\n",
       "      <th>review_id</th>\n",
       "      <th>review_text</th>\n",
       "      <th>review_title</th>\n",
       "      <th>rating</th>\n",
       "      <th>product_id</th>\n",
       "      <th>review_date</th>\n",
       "      <th>product_category</th>\n",
       "      <th>source</th>\n",
       "    </tr>\n",
       "  </thead>\n",
       "  <tbody>\n",
       "    <tr>\n",
       "      <th>0</th>\n",
       "      <td>92fccc46-4984-4bae-ba8e-007a27f511be</td>\n",
       "      <td>Absolutely wonderful - silky and sexy and comf...</td>\n",
       "      <td>NaN</td>\n",
       "      <td>4</td>\n",
       "      <td>767</td>\n",
       "      <td>2019-05-23</td>\n",
       "      <td>Intimate</td>\n",
       "      <td>E-commerce Clothing Store</td>\n",
       "    </tr>\n",
       "    <tr>\n",
       "      <th>1</th>\n",
       "      <td>991406e4-6cb7-46e8-abfd-a4c8ed805c58</td>\n",
       "      <td>Love this dress!  it's sooo pretty.  i happene...</td>\n",
       "      <td>NaN</td>\n",
       "      <td>5</td>\n",
       "      <td>1080</td>\n",
       "      <td>2019-05-23</td>\n",
       "      <td>Dresses</td>\n",
       "      <td>E-commerce Clothing Store</td>\n",
       "    </tr>\n",
       "    <tr>\n",
       "      <th>2</th>\n",
       "      <td>290a819a-7bb8-4ec4-86a2-a7be2e25725f</td>\n",
       "      <td>I had such high hopes for this dress and reall...</td>\n",
       "      <td>Some major design flaws</td>\n",
       "      <td>3</td>\n",
       "      <td>1077</td>\n",
       "      <td>2019-05-23</td>\n",
       "      <td>Dresses</td>\n",
       "      <td>E-commerce Clothing Store</td>\n",
       "    </tr>\n",
       "    <tr>\n",
       "      <th>3</th>\n",
       "      <td>5e04fb91-fad0-4cc5-9f8d-854cb4878c20</td>\n",
       "      <td>I love, love, love this jumpsuit. it's fun, fl...</td>\n",
       "      <td>My favorite buy!</td>\n",
       "      <td>5</td>\n",
       "      <td>1049</td>\n",
       "      <td>2019-05-23</td>\n",
       "      <td>Bottoms</td>\n",
       "      <td>E-commerce Clothing Store</td>\n",
       "    </tr>\n",
       "    <tr>\n",
       "      <th>4</th>\n",
       "      <td>a1b8413c-f6f9-4538-b438-d8eaf1c149f4</td>\n",
       "      <td>This shirt is very flattering to all due to th...</td>\n",
       "      <td>Flattering shirt</td>\n",
       "      <td>5</td>\n",
       "      <td>847</td>\n",
       "      <td>2019-05-23</td>\n",
       "      <td>Tops</td>\n",
       "      <td>E-commerce Clothing Store</td>\n",
       "    </tr>\n",
       "  </tbody>\n",
       "</table>\n",
       "</div>"
      ],
      "text/plain": [
       "                              review_id  \\\n",
       "0  92fccc46-4984-4bae-ba8e-007a27f511be   \n",
       "1  991406e4-6cb7-46e8-abfd-a4c8ed805c58   \n",
       "2  290a819a-7bb8-4ec4-86a2-a7be2e25725f   \n",
       "3  5e04fb91-fad0-4cc5-9f8d-854cb4878c20   \n",
       "4  a1b8413c-f6f9-4538-b438-d8eaf1c149f4   \n",
       "\n",
       "                                         review_text             review_title  \\\n",
       "0  Absolutely wonderful - silky and sexy and comf...                      NaN   \n",
       "1  Love this dress!  it's sooo pretty.  i happene...                      NaN   \n",
       "2  I had such high hopes for this dress and reall...  Some major design flaws   \n",
       "3  I love, love, love this jumpsuit. it's fun, fl...         My favorite buy!   \n",
       "4  This shirt is very flattering to all due to th...         Flattering shirt   \n",
       "\n",
       "   rating  product_id review_date product_category                     source  \n",
       "0       4         767  2019-05-23         Intimate  E-commerce Clothing Store  \n",
       "1       5        1080  2019-05-23          Dresses  E-commerce Clothing Store  \n",
       "2       3        1077  2019-05-23          Dresses  E-commerce Clothing Store  \n",
       "3       5        1049  2019-05-23          Bottoms  E-commerce Clothing Store  \n",
       "4       5         847  2019-05-23             Tops  E-commerce Clothing Store  "
      ]
     },
     "execution_count": 32,
     "metadata": {},
     "output_type": "execute_result"
    }
   ],
   "source": [
    "clothing_reviews.head()"
   ]
  },
  {
   "cell_type": "code",
   "execution_count": 33,
   "id": "95444ebe-4979-4fe2-b68b-de7c1042d73d",
   "metadata": {
    "executionInfo": {
     "elapsed": 579,
     "status": "ok",
     "timestamp": 1731854877317,
     "user": {
      "displayName": "Chijo Nyacigak",
      "userId": "12700575378002708673"
     },
     "user_tz": -180
    },
    "id": "95444ebe-4979-4fe2-b68b-de7c1042d73d"
   },
   "outputs": [],
   "source": [
    "# combine all three datasets\n",
    "\n",
    "combined_reviews = pd.concat([amazon_reviews, sephora_reviews, clothing_reviews], ignore_index=True)"
   ]
  },
  {
   "cell_type": "code",
   "execution_count": 34,
   "id": "5aa86d4f-3111-4150-9084-dec2a3742550",
   "metadata": {
    "colab": {
     "base_uri": "https://localhost:8080/",
     "height": 293
    },
    "executionInfo": {
     "elapsed": 10,
     "status": "ok",
     "timestamp": 1731854878719,
     "user": {
      "displayName": "Chijo Nyacigak",
      "userId": "12700575378002708673"
     },
     "user_tz": -180
    },
    "id": "5aa86d4f-3111-4150-9084-dec2a3742550",
    "outputId": "dee912c0-071d-486c-8df9-13a448731ff9"
   },
   "outputs": [
    {
     "data": {
      "text/html": [
       "<div>\n",
       "<style scoped>\n",
       "    .dataframe tbody tr th:only-of-type {\n",
       "        vertical-align: middle;\n",
       "    }\n",
       "\n",
       "    .dataframe tbody tr th {\n",
       "        vertical-align: top;\n",
       "    }\n",
       "\n",
       "    .dataframe thead th {\n",
       "        text-align: right;\n",
       "    }\n",
       "</style>\n",
       "<table border=\"1\" class=\"dataframe\">\n",
       "  <thead>\n",
       "    <tr style=\"text-align: right;\">\n",
       "      <th></th>\n",
       "      <th>review_id</th>\n",
       "      <th>review_text</th>\n",
       "      <th>review_title</th>\n",
       "      <th>rating</th>\n",
       "      <th>product_id</th>\n",
       "      <th>review_date</th>\n",
       "      <th>product_category</th>\n",
       "      <th>source</th>\n",
       "    </tr>\n",
       "  </thead>\n",
       "  <tbody>\n",
       "    <tr>\n",
       "      <th>0</th>\n",
       "      <td>A30TL5EWN6DFXT</td>\n",
       "      <td>They look good and stick good! I just don't li...</td>\n",
       "      <td>Looks Good</td>\n",
       "      <td>4.0</td>\n",
       "      <td>120401325X</td>\n",
       "      <td>2014-05-21 00:00:00</td>\n",
       "      <td>cellphones and accessories</td>\n",
       "      <td>Amazon</td>\n",
       "    </tr>\n",
       "    <tr>\n",
       "      <th>1</th>\n",
       "      <td>ASY55RVNIL0UD</td>\n",
       "      <td>These stickers work like the review says they ...</td>\n",
       "      <td>Really great product.</td>\n",
       "      <td>5.0</td>\n",
       "      <td>120401325X</td>\n",
       "      <td>2014-01-14 00:00:00</td>\n",
       "      <td>cellphones and accessories</td>\n",
       "      <td>Amazon</td>\n",
       "    </tr>\n",
       "    <tr>\n",
       "      <th>2</th>\n",
       "      <td>A2TMXE2AFO7ONB</td>\n",
       "      <td>These are awesome and make my phone look so st...</td>\n",
       "      <td>LOVE LOVE LOVE</td>\n",
       "      <td>5.0</td>\n",
       "      <td>120401325X</td>\n",
       "      <td>2014-06-26 00:00:00</td>\n",
       "      <td>cellphones and accessories</td>\n",
       "      <td>Amazon</td>\n",
       "    </tr>\n",
       "    <tr>\n",
       "      <th>3</th>\n",
       "      <td>AWJ0WZQYMYFQ4</td>\n",
       "      <td>Item arrived in great time and was in perfect ...</td>\n",
       "      <td>Cute!</td>\n",
       "      <td>4.0</td>\n",
       "      <td>120401325X</td>\n",
       "      <td>2013-10-21 00:00:00</td>\n",
       "      <td>cellphones and accessories</td>\n",
       "      <td>Amazon</td>\n",
       "    </tr>\n",
       "    <tr>\n",
       "      <th>4</th>\n",
       "      <td>ATX7CZYFXI1KW</td>\n",
       "      <td>awesome! stays on, and looks great. can be use...</td>\n",
       "      <td>leopard home button sticker for iphone 4s</td>\n",
       "      <td>5.0</td>\n",
       "      <td>120401325X</td>\n",
       "      <td>2013-02-03 00:00:00</td>\n",
       "      <td>cellphones and accessories</td>\n",
       "      <td>Amazon</td>\n",
       "    </tr>\n",
       "  </tbody>\n",
       "</table>\n",
       "</div>"
      ],
      "text/plain": [
       "        review_id                                        review_text  \\\n",
       "0  A30TL5EWN6DFXT  They look good and stick good! I just don't li...   \n",
       "1   ASY55RVNIL0UD  These stickers work like the review says they ...   \n",
       "2  A2TMXE2AFO7ONB  These are awesome and make my phone look so st...   \n",
       "3   AWJ0WZQYMYFQ4  Item arrived in great time and was in perfect ...   \n",
       "4   ATX7CZYFXI1KW  awesome! stays on, and looks great. can be use...   \n",
       "\n",
       "                                review_title  rating  product_id  \\\n",
       "0                                 Looks Good     4.0  120401325X   \n",
       "1                      Really great product.     5.0  120401325X   \n",
       "2                             LOVE LOVE LOVE     5.0  120401325X   \n",
       "3                                      Cute!     4.0  120401325X   \n",
       "4  leopard home button sticker for iphone 4s     5.0  120401325X   \n",
       "\n",
       "           review_date            product_category  source  \n",
       "0  2014-05-21 00:00:00  cellphones and accessories  Amazon  \n",
       "1  2014-01-14 00:00:00  cellphones and accessories  Amazon  \n",
       "2  2014-06-26 00:00:00  cellphones and accessories  Amazon  \n",
       "3  2013-10-21 00:00:00  cellphones and accessories  Amazon  \n",
       "4  2013-02-03 00:00:00  cellphones and accessories  Amazon  "
      ]
     },
     "execution_count": 34,
     "metadata": {},
     "output_type": "execute_result"
    }
   ],
   "source": [
    "combined_reviews.head()"
   ]
  },
  {
   "cell_type": "code",
   "execution_count": 35,
   "id": "1263633d-59e5-45f2-aa93-41f5c744c8b0",
   "metadata": {
    "colab": {
     "base_uri": "https://localhost:8080/"
    },
    "executionInfo": {
     "elapsed": 635,
     "status": "ok",
     "timestamp": 1731854882611,
     "user": {
      "displayName": "Chijo Nyacigak",
      "userId": "12700575378002708673"
     },
     "user_tz": -180
    },
    "id": "1263633d-59e5-45f2-aa93-41f5c744c8b0",
    "outputId": "d61f3c16-01b6-432d-e4c2-a9025eb7c803"
   },
   "outputs": [
    {
     "data": {
      "text/plain": [
       "(820055, 8)"
      ]
     },
     "execution_count": 35,
     "metadata": {},
     "output_type": "execute_result"
    }
   ],
   "source": [
    "combined_reviews.shape"
   ]
  },
  {
   "cell_type": "markdown",
   "id": "4bb0fcf5-9677-459e-b528-e29e5040f68a",
   "metadata": {
    "id": "4bb0fcf5-9677-459e-b528-e29e5040f68a"
   },
   "source": [
    "# Data cleaning"
   ]
  },
  {
   "cell_type": "code",
   "execution_count": 36,
   "id": "cd1257c6-ce4d-4087-9baa-40e5a23514cd",
   "metadata": {
    "colab": {
     "base_uri": "https://localhost:8080/"
    },
    "executionInfo": {
     "elapsed": 766,
     "status": "ok",
     "timestamp": 1731854886764,
     "user": {
      "displayName": "Chijo Nyacigak",
      "userId": "12700575378002708673"
     },
     "user_tz": -180
    },
    "id": "cd1257c6-ce4d-4087-9baa-40e5a23514cd",
    "outputId": "de90cf55-274c-4bac-b523-fa1a6134d041"
   },
   "outputs": [
    {
     "data": {
      "text/plain": [
       "Index(['review_id', 'review_text', 'review_title', 'rating', 'product_id',\n",
       "       'review_date', 'product_category', 'source'],\n",
       "      dtype='object')"
      ]
     },
     "execution_count": 36,
     "metadata": {},
     "output_type": "execute_result"
    }
   ],
   "source": [
    "# check data types\n",
    "combined_reviews.columns"
   ]
  },
  {
   "cell_type": "code",
   "execution_count": 37,
   "id": "0f913c40-55b8-4b9a-b94a-4b71ddd2ca93",
   "metadata": {
    "executionInfo": {
     "elapsed": 464,
     "status": "ok",
     "timestamp": 1731854889238,
     "user": {
      "displayName": "Chijo Nyacigak",
      "userId": "12700575378002708673"
     },
     "user_tz": -180
    },
    "id": "0f913c40-55b8-4b9a-b94a-4b71ddd2ca93"
   },
   "outputs": [],
   "source": [
    "# change review date data type to datetime\n",
    "combined_reviews['review_date'] = pd.to_datetime(combined_reviews['review_date'])"
   ]
  },
  {
   "cell_type": "code",
   "execution_count": 38,
   "id": "03c0a129-76da-49cb-830a-8d9ae38c27ba",
   "metadata": {
    "colab": {
     "base_uri": "https://localhost:8080/",
     "height": 335
    },
    "executionInfo": {
     "elapsed": 459,
     "status": "ok",
     "timestamp": 1731854894644,
     "user": {
      "displayName": "Chijo Nyacigak",
      "userId": "12700575378002708673"
     },
     "user_tz": -180
    },
    "id": "03c0a129-76da-49cb-830a-8d9ae38c27ba",
    "outputId": "ddd85832-e4a5-46b9-bbcf-c04238d2f67c"
   },
   "outputs": [
    {
     "data": {
      "text/plain": [
       "review_id                0\n",
       "review_text           1844\n",
       "review_title        170821\n",
       "rating                   0\n",
       "product_id               0\n",
       "review_date              0\n",
       "product_category        14\n",
       "source                   0\n",
       "dtype: int64"
      ]
     },
     "execution_count": 38,
     "metadata": {},
     "output_type": "execute_result"
    }
   ],
   "source": [
    "# check for missing values\n",
    "combined_reviews.isnull().sum()"
   ]
  },
  {
   "cell_type": "code",
   "execution_count": 39,
   "id": "bd19dee4-b869-40e4-a935-ae25299c63f2",
   "metadata": {
    "colab": {
     "base_uri": "https://localhost:8080/",
     "height": 335
    },
    "executionInfo": {
     "elapsed": 1005,
     "status": "ok",
     "timestamp": 1731854897419,
     "user": {
      "displayName": "Chijo Nyacigak",
      "userId": "12700575378002708673"
     },
     "user_tz": -180
    },
    "id": "bd19dee4-b869-40e4-a935-ae25299c63f2",
    "outputId": "39cf7277-e780-4f06-8922-2ff51eefb5d2"
   },
   "outputs": [
    {
     "data": {
      "text/plain": [
       "review_id           0\n",
       "review_text         0\n",
       "review_title        0\n",
       "rating              0\n",
       "product_id          0\n",
       "review_date         0\n",
       "product_category    0\n",
       "source              0\n",
       "dtype: int64"
      ]
     },
     "execution_count": 39,
     "metadata": {},
     "output_type": "execute_result"
    }
   ],
   "source": [
    "# drop all missing values\n",
    "combined_reviews = combined_reviews.dropna(subset=['review_text', 'review_title', 'product_category'])\n",
    "\n",
    "combined_reviews .isna().sum()"
   ]
  },
  {
   "cell_type": "code",
   "execution_count": 40,
   "id": "56b1b49d-0a44-4400-8815-b564c3150215",
   "metadata": {
    "colab": {
     "base_uri": "https://localhost:8080/"
    },
    "executionInfo": {
     "elapsed": 418,
     "status": "ok",
     "timestamp": 1731854900702,
     "user": {
      "displayName": "Chijo Nyacigak",
      "userId": "12700575378002708673"
     },
     "user_tz": -180
    },
    "id": "56b1b49d-0a44-4400-8815-b564c3150215",
    "outputId": "cec9e9be-64e8-4f93-c510-74dccef9f644"
   },
   "outputs": [
    {
     "data": {
      "text/plain": [
       "(649220, 8)"
      ]
     },
     "execution_count": 40,
     "metadata": {},
     "output_type": "execute_result"
    }
   ],
   "source": [
    "combined_reviews.shape"
   ]
  },
  {
   "cell_type": "code",
   "execution_count": 41,
   "id": "a56b9b38-27a6-47fd-ba5a-084d9e19655a",
   "metadata": {
    "colab": {
     "base_uri": "https://localhost:8080/"
    },
    "executionInfo": {
     "elapsed": 4,
     "status": "ok",
     "timestamp": 1731854902860,
     "user": {
      "displayName": "Chijo Nyacigak",
      "userId": "12700575378002708673"
     },
     "user_tz": -180
    },
    "id": "a56b9b38-27a6-47fd-ba5a-084d9e19655a",
    "outputId": "7fc14467-89dc-407b-fa81-bbfefcefa002"
   },
   "outputs": [
    {
     "name": "stdout",
     "output_type": "stream",
     "text": [
      "<class 'pandas.core.frame.DataFrame'>\n",
      "Index: 649220 entries, 0 to 820054\n",
      "Data columns (total 8 columns):\n",
      " #   Column            Non-Null Count   Dtype         \n",
      "---  ------            --------------   -----         \n",
      " 0   review_id         649220 non-null  object        \n",
      " 1   review_text       649220 non-null  object        \n",
      " 2   review_title      649220 non-null  object        \n",
      " 3   rating            649220 non-null  float64       \n",
      " 4   product_id        649220 non-null  object        \n",
      " 5   review_date       649220 non-null  datetime64[ns]\n",
      " 6   product_category  649220 non-null  object        \n",
      " 7   source            649220 non-null  object        \n",
      "dtypes: datetime64[ns](1), float64(1), object(6)\n",
      "memory usage: 44.6+ MB\n"
     ]
    }
   ],
   "source": [
    "combined_reviews.info()"
   ]
  },
  {
   "cell_type": "markdown",
   "id": "b6960a2d-b5fc-46ed-a69f-30bbe763393c",
   "metadata": {
    "id": "b6960a2d-b5fc-46ed-a69f-30bbe763393c"
   },
   "source": [
    "## Save the new dataset"
   ]
  },
  {
   "cell_type": "code",
   "execution_count": 42,
   "id": "7e8147f6-430e-4024-aae3-1cab07aeb2b1",
   "metadata": {
    "executionInfo": {
     "elapsed": 522,
     "status": "ok",
     "timestamp": 1731854905722,
     "user": {
      "displayName": "Chijo Nyacigak",
      "userId": "12700575378002708673"
     },
     "user_tz": -180
    },
    "id": "7e8147f6-430e-4024-aae3-1cab07aeb2b1"
   },
   "outputs": [],
   "source": [
    "#combined_reviews.to_csv(\"curated_reviews_data.csv\", index=False)"
   ]
  },
  {
   "cell_type": "code",
   "execution_count": 43,
   "id": "8f5de46b-8cbc-4af7-a789-11d08b9213a9",
   "metadata": {
    "executionInfo": {
     "elapsed": 14215,
     "status": "ok",
     "timestamp": 1731854921381,
     "user": {
      "displayName": "Chijo Nyacigak",
      "userId": "12700575378002708673"
     },
     "user_tz": -180
    },
    "id": "8f5de46b-8cbc-4af7-a789-11d08b9213a9"
   },
   "outputs": [],
   "source": [
    "# Define data types for each column\n",
    "dtype_dict = {\n",
    "    \"review_id\": \"string\",\n",
    "    \"review_text\": \"string\",\n",
    "    \"review_title\": \"string\",\n",
    "    \"rating\": \"float64\",\n",
    "    \"product_id\": \"string\",\n",
    "    \"product_category\": \"string\",\n",
    "    \"source\": \"string\"\n",
    "}\n",
    "\n",
    "data = pd.read_csv('curated_reviews_data.csv', dtype=dtype_dict, parse_dates=['review_date'])\n"
   ]
  },
  {
   "cell_type": "markdown",
   "id": "57f82759-239a-41ab-a5b9-3582570494dd",
   "metadata": {
    "id": "57f82759-239a-41ab-a5b9-3582570494dd"
   },
   "source": [
    "# Pre-processing"
   ]
  },
  {
   "cell_type": "markdown",
   "id": "ac6b5a0a-aa57-42ab-9ca5-9be5913de9aa",
   "metadata": {
    "id": "ac6b5a0a-aa57-42ab-9ca5-9be5913de9aa"
   },
   "source": [
    "## Text preprocessing data using NLTK"
   ]
  },
  {
   "cell_type": "code",
   "execution_count": 44,
   "id": "d5c0eb07-338b-47ca-ab75-5d4868b405b6",
   "metadata": {
    "colab": {
     "base_uri": "https://localhost:8080/"
    },
    "executionInfo": {
     "elapsed": 874,
     "status": "ok",
     "timestamp": 1731854930566,
     "user": {
      "displayName": "Chijo Nyacigak",
      "userId": "12700575378002708673"
     },
     "user_tz": -180
    },
    "id": "d5c0eb07-338b-47ca-ab75-5d4868b405b6",
    "outputId": "29dd3fd7-47b5-4068-fd22-f505ef0da04a"
   },
   "outputs": [
    {
     "name": "stderr",
     "output_type": "stream",
     "text": [
      "[nltk_data] Downloading package punkt to\n",
      "[nltk_data]     /home/chijofareen/nltk_data...\n",
      "[nltk_data]   Package punkt is already up-to-date!\n",
      "[nltk_data] Downloading package punkt_tab to\n",
      "[nltk_data]     /home/chijofareen/nltk_data...\n",
      "[nltk_data]   Package punkt_tab is already up-to-date!\n",
      "[nltk_data] Downloading package stopwords to\n",
      "[nltk_data]     /home/chijofareen/nltk_data...\n",
      "[nltk_data]   Package stopwords is already up-to-date!\n",
      "[nltk_data] Downloading package vader_lexicon to\n",
      "[nltk_data]     /home/chijofareen/nltk_data...\n",
      "[nltk_data]   Package vader_lexicon is already up-to-date!\n"
     ]
    },
    {
     "data": {
      "text/plain": [
       "True"
      ]
     },
     "execution_count": 44,
     "metadata": {},
     "output_type": "execute_result"
    }
   ],
   "source": [
    "# Download necessary NLTK resources\n",
    "nltk.download('punkt')\n",
    "nltk.download('punkt_tab')\n",
    "nltk.download('stopwords')\n",
    "nltk.download('vader_lexicon')"
   ]
  },
  {
   "cell_type": "code",
   "execution_count": 45,
   "id": "9a08ab02-a40d-4758-9bcd-78314ffcc8db",
   "metadata": {},
   "outputs": [],
   "source": [
    "combined_reviews['full_text'] = combined_reviews['review_title'] + \". \" + combined_reviews['review_text']"
   ]
  },
  {
   "cell_type": "code",
   "execution_count": 46,
   "id": "0e6f4171-cd98-4faa-8ba3-da48cf54caab",
   "metadata": {},
   "outputs": [
    {
     "data": {
      "text/plain": [
       "0         Looks Good. They look good and stick good! I j...\n",
       "1         Really great product.. These stickers work lik...\n",
       "2         LOVE LOVE LOVE. These are awesome and make my ...\n",
       "3         Cute!. Item arrived in great time and was in p...\n",
       "4         leopard home button sticker for iphone 4s. awe...\n",
       "                                ...                        \n",
       "820050    Great dress for many occasions. I was very hap...\n",
       "820051    Wish it was made of cotton. It reminds me of m...\n",
       "820052    Cute, but see through. This fit well, but the ...\n",
       "820053    Very cute dress, perfect for summer parties an...\n",
       "820054    Please make more like this one!. This dress in...\n",
       "Name: full_text, Length: 649220, dtype: object"
      ]
     },
     "execution_count": 46,
     "metadata": {},
     "output_type": "execute_result"
    }
   ],
   "source": [
    "combined_reviews['full_text'] "
   ]
  },
  {
   "cell_type": "markdown",
   "id": "8c78844a-9ec0-4001-9a54-2f025b5b4cc0",
   "metadata": {},
   "source": [
    "## Theme detection & Sentiment analysis"
   ]
  },
  {
   "cell_type": "code",
   "execution_count": 47,
   "id": "1a7beb55-666a-4584-af18-2b5b4c9428bf",
   "metadata": {
    "executionInfo": {
     "elapsed": 447,
     "status": "ok",
     "timestamp": 1731854933725,
     "user": {
      "displayName": "Chijo Nyacigak",
      "userId": "12700575378002708673"
     },
     "user_tz": -180
    },
    "id": "1a7beb55-666a-4584-af18-2b5b4c9428bf"
   },
   "outputs": [],
   "source": [
    "# Preprocessing function\n",
    "def preprocess_text(text):\n",
    "    if not isinstance(text, str):\n",
    "        return ''  \n",
    "    text = text.lower()  # Convert to lowercase\n",
    "    text = re.sub(r'[^\\w\\s]', '', text)  # Remove punctuation\n",
    "    text = re.sub(r'\\d+', '', text)  # Remove numbers\n",
    "    tokens = word_tokenize(text)  # Tokenize\n",
    "    tokens = [word for word in tokens if word not in stopwords.words('english')]  # Remove stopwords\n",
    "    return ' '.join(tokens)"
   ]
  },
  {
   "cell_type": "code",
   "execution_count": 48,
   "id": "46a604ab-4c96-4a97-a3e2-74b2481b56d4",
   "metadata": {
    "id": "46a604ab-4c96-4a97-a3e2-74b2481b56d4"
   },
   "outputs": [],
   "source": [
    "# Apply preprocessing function to the reviews\n",
    "data['clean_review_text'] = data['review_text'].apply(preprocess_text)\n",
    "data['clean_review_title'] = data['review_title'].apply(preprocess_text)"
   ]
  },
  {
   "cell_type": "code",
   "execution_count": 49,
   "id": "252f6c93-c8c3-4e80-8b67-cfd33e834f91",
   "metadata": {
    "colab": {
     "base_uri": "https://localhost:8080/",
     "height": 206
    },
    "executionInfo": {
     "elapsed": 595,
     "status": "ok",
     "timestamp": 1731764861861,
     "user": {
      "displayName": "Chijo Nyacigak",
      "userId": "12700575378002708673"
     },
     "user_tz": -180
    },
    "id": "252f6c93-c8c3-4e80-8b67-cfd33e834f91",
    "outputId": "73e751e6-f8df-4912-e124-8b1d20e7d138"
   },
   "outputs": [
    {
     "data": {
      "text/html": [
       "<div>\n",
       "<style scoped>\n",
       "    .dataframe tbody tr th:only-of-type {\n",
       "        vertical-align: middle;\n",
       "    }\n",
       "\n",
       "    .dataframe tbody tr th {\n",
       "        vertical-align: top;\n",
       "    }\n",
       "\n",
       "    .dataframe thead th {\n",
       "        text-align: right;\n",
       "    }\n",
       "</style>\n",
       "<table border=\"1\" class=\"dataframe\">\n",
       "  <thead>\n",
       "    <tr style=\"text-align: right;\">\n",
       "      <th></th>\n",
       "      <th>clean_review_text</th>\n",
       "      <th>clean_review_title</th>\n",
       "    </tr>\n",
       "  </thead>\n",
       "  <tbody>\n",
       "    <tr>\n",
       "      <th>0</th>\n",
       "      <td>look good stick good dont like rounded shape a...</td>\n",
       "      <td>looks good</td>\n",
       "    </tr>\n",
       "    <tr>\n",
       "      <th>1</th>\n",
       "      <td>stickers work like review says stick great sta...</td>\n",
       "      <td>really great product</td>\n",
       "    </tr>\n",
       "    <tr>\n",
       "      <th>2</th>\n",
       "      <td>awesome make phone look stylish used one far a...</td>\n",
       "      <td>love love love</td>\n",
       "    </tr>\n",
       "    <tr>\n",
       "      <th>3</th>\n",
       "      <td>item arrived great time perfect condition howe...</td>\n",
       "      <td>cute</td>\n",
       "    </tr>\n",
       "    <tr>\n",
       "      <th>4</th>\n",
       "      <td>awesome stays looks great used multiple apple ...</td>\n",
       "      <td>leopard home button sticker iphone</td>\n",
       "    </tr>\n",
       "  </tbody>\n",
       "</table>\n",
       "</div>"
      ],
      "text/plain": [
       "                                   clean_review_text  \\\n",
       "0  look good stick good dont like rounded shape a...   \n",
       "1  stickers work like review says stick great sta...   \n",
       "2  awesome make phone look stylish used one far a...   \n",
       "3  item arrived great time perfect condition howe...   \n",
       "4  awesome stays looks great used multiple apple ...   \n",
       "\n",
       "                   clean_review_title  \n",
       "0                          looks good  \n",
       "1                really great product  \n",
       "2                      love love love  \n",
       "3                                cute  \n",
       "4  leopard home button sticker iphone  "
      ]
     },
     "execution_count": 49,
     "metadata": {},
     "output_type": "execute_result"
    }
   ],
   "source": [
    "# Show pre-processed review\n",
    "data[['clean_review_text', 'clean_review_title']].head()"
   ]
  },
  {
   "cell_type": "code",
   "execution_count": 50,
   "id": "8563f135-0b2e-4d42-a6e3-729d8064a460",
   "metadata": {},
   "outputs": [],
   "source": [
    "# Load spaCy model\n",
    "nlp = spacy.load(\"en_core_web_sm\")"
   ]
  },
  {
   "cell_type": "code",
   "execution_count": 51,
   "id": "5fa87c7c-9a85-4ae3-944f-1483cdf01955",
   "metadata": {},
   "outputs": [],
   "source": [
    "# Combine preprocessed text for analysis\n",
    "data['full_text'] = (\n",
    "    data['clean_review_title'] + \" \" + data['clean_review_text']\n",
    ")\n",
    "\n",
    "# Sample subset of data \n",
    "sample_size = int(0.3 * len(combined_reviews))  # Adjust fraction as needed\n",
    "subset_data = data.sample(n=sample_size, random_state=42)[['full_text']].copy()"
   ]
  },
  {
   "cell_type": "code",
   "execution_count": 52,
   "id": "4df2b57b-9900-461c-bc61-1ca8b3f6b11b",
   "metadata": {},
   "outputs": [
    {
     "name": "stdout",
     "output_type": "stream",
     "text": [
      "Sampled 194766 rows for topic modeling and sentiment analysis.\n"
     ]
    }
   ],
   "source": [
    "\n",
    "# Display the size of the subset for verification\n",
    "print(f\"Sampled {len(subset_data)} rows for topic modeling and sentiment analysis.\")"
   ]
  },
  {
   "cell_type": "code",
   "execution_count": 53,
   "id": "2f8450b5-7ff4-40be-997e-203d6436dda1",
   "metadata": {
    "id": "2f8450b5-7ff4-40be-997e-203d6436dda1"
   },
   "outputs": [],
   "source": [
    "# Sentiment Analysis with VADER\n",
    "sia = SentimentIntensityAnalyzer()\n",
    "\n",
    "subset_data['sentiments'] = subset_data['full_text'].apply(lambda x: sia.polarity_scores(x))\n",
    "subset_data['compound'] = subset_data['sentiments'].apply(lambda score_dict: score_dict['compound'])\n",
    "subset_data['sentiment_type'] = subset_data['compound'].apply(lambda c: 'positive' if c > 0 else ('negative' if c < 0 else 'neutral'))\n"
   ]
  },
  {
   "cell_type": "code",
   "execution_count": 54,
   "id": "c79d4f32-094c-4b3f-b157-cfa1f3835d29",
   "metadata": {},
   "outputs": [],
   "source": [
    "# Preprocess text for LDA\n",
    "def preprocess_for_lda(text):\n",
    "    text = re.sub(r'\\s+', ' ', text)  # Remove extra spaces\n",
    "    text = re.sub(r'\\S*@\\S*\\s?', '', text)  # Remove emails\n",
    "    text = re.sub(r\"\\'\", '', text)  # Remove apostrophes\n",
    "    text = re.sub(r'[^a-zA-Z]', ' ', text)  # Remove non-alphabet characters\n",
    "    return text.lower()\n",
    "\n",
    "subset_data['cleaned_text'] = subset_data['full_text'].apply(preprocess_for_lda)"
   ]
  },
  {
   "cell_type": "markdown",
   "id": "4d3f4e9d-d025-4d1b-8c5c-ca4b86b745ec",
   "metadata": {},
   "source": [
    "### Tokenize and Remove Stopwords"
   ]
  },
  {
   "cell_type": "code",
   "execution_count": 55,
   "id": "f7ef8f15-c9fc-4bcc-9dbb-4cb4793c58f2",
   "metadata": {},
   "outputs": [],
   "source": [
    "# Tokenize and remove stopwords\n",
    "stop_words = set(stopwords.words('english'))\n",
    "def tokenize(text):\n",
    "    tokens = gensim.utils.simple_preprocess(text, deacc=True)\n",
    "    tokens = [token for token in tokens if token not in stop_words]\n",
    "    return tokens\n",
    "\n",
    "subset_data['tokens'] = subset_data['cleaned_text'].apply(tokenize)"
   ]
  },
  {
   "cell_type": "markdown",
   "id": "c1829c94-6fb6-487d-8e1d-9782d77ead71",
   "metadata": {},
   "source": [
    "### Lemmatize Tokens"
   ]
  },
  {
   "cell_type": "code",
   "execution_count": 56,
   "id": "0e6e8f1e-6798-44a2-886a-97432b2d48b6",
   "metadata": {},
   "outputs": [],
   "source": [
    "# Lemmatize using spaCy\n",
    "def lemmatize(tokens):\n",
    "    doc = nlp(\" \".join(tokens))\n",
    "    return [token.lemma_ for token in doc]\n",
    "\n",
    "subset_data['lemmas'] = subset_data['tokens'].apply(lemmatize)"
   ]
  },
  {
   "cell_type": "markdown",
   "id": "0cab9416-14da-475b-abce-59c823d9738b",
   "metadata": {},
   "source": [
    "### Create Dictionary and Corpus, Build LDA Model and print topics"
   ]
  },
  {
   "cell_type": "code",
   "execution_count": 57,
   "id": "f4c85f56-0c7b-4a96-8871-6a7b6ebebd4d",
   "metadata": {},
   "outputs": [],
   "source": [
    "# Create dictionary and corpus for LDA\n",
    "id2word = corpora.Dictionary(subset_data['lemmas'])\n",
    "texts = subset_data['lemmas']\n",
    "corpus = [id2word.doc2bow(text) for text in texts]\n",
    "\n",
    "# Build LDA model\n",
    "lda_model = gensim.models.ldamodel.LdaModel(corpus=corpus,\n",
    "                                            id2word=id2word,\n",
    "                                            num_topics=16, \n",
    "                                            random_state=100,\n",
    "                                            update_every=1,\n",
    "                                            chunksize=100,\n",
    "                                            passes=10,\n",
    "                                            alpha='auto',\n",
    "                                            per_word_topics=True)\n",
    "\n"
   ]
  },
  {
   "cell_type": "code",
   "execution_count": 58,
   "id": "f5ecf16d-7698-4999-8367-2b0fa51dd146",
   "metadata": {
    "id": "f5ecf16d-7698-4999-8367-2b0fa51dd146",
    "outputId": "9aa4b51f-d665-4a7f-a457-25018ea09b80"
   },
   "outputs": [
    {
     "data": {
      "text/plain": [
       "{'Topic 0': ['charge',\n",
       "  'battery',\n",
       "  'charger',\n",
       "  'device',\n",
       "  'cable',\n",
       "  'power',\n",
       "  'usb',\n",
       "  'car',\n",
       "  'plug',\n",
       "  'phone'],\n",
       " 'Topic 1': ['phone',\n",
       "  'screen',\n",
       "  'easy',\n",
       "  'quality',\n",
       "  'protector',\n",
       "  'easily',\n",
       "  'protect',\n",
       "  'hold',\n",
       "  'iphone',\n",
       "  'samsung'],\n",
       " 'Topic 2': ['acne',\n",
       "  'clear',\n",
       "  'breakout',\n",
       "  'spot',\n",
       "  'area',\n",
       "  'dark',\n",
       "  'cause',\n",
       "  'prone',\n",
       "  'huge',\n",
       "  'redness'],\n",
       " 'Topic 3': ['great',\n",
       "  'use',\n",
       "  'get',\n",
       "  'one',\n",
       "  'go',\n",
       "  'buy',\n",
       "  'time',\n",
       "  'little',\n",
       "  'even',\n",
       "  'try'],\n",
       " 'Topic 4': ['worth',\n",
       "  'line',\n",
       "  'money',\n",
       "  'live',\n",
       "  'spend',\n",
       "  'happen',\n",
       "  'offer',\n",
       "  'waste',\n",
       "  'person',\n",
       "  'dead'],\n",
       " 'Topic 5': ['skin',\n",
       "  'product',\n",
       "  'love',\n",
       "  'use',\n",
       "  'feel',\n",
       "  'face',\n",
       "  'dry',\n",
       "  'moisturizer',\n",
       "  'smell',\n",
       "  'makeup'],\n",
       " 'Topic 6': ['cream',\n",
       "  'eye',\n",
       "  'receive',\n",
       "  'sample',\n",
       "  'free',\n",
       "  'quickly',\n",
       "  'influenster',\n",
       "  'absorb',\n",
       "  'complimentary',\n",
       "  'honest'],\n",
       " 'Topic 7': ['lip',\n",
       "  'balm',\n",
       "  'wish',\n",
       "  'type',\n",
       "  'next',\n",
       "  'thin',\n",
       "  'base',\n",
       "  'pay',\n",
       "  'honestly',\n",
       "  'pair'],\n",
       " 'Topic 8': ['cleanser',\n",
       "  'you',\n",
       "  'gentle',\n",
       "  're',\n",
       "  'cleanse',\n",
       "  'll',\n",
       "  'clean',\n",
       "  'double',\n",
       "  'service',\n",
       "  'customer'],\n",
       " 'Topic 9': ['I',\n",
       "  've',\n",
       "  'm',\n",
       "  'remove',\n",
       "  'overall',\n",
       "  'holy',\n",
       "  'return',\n",
       "  'tone',\n",
       "  'grail',\n",
       "  'facial'],\n",
       " 'Topic 10': ['sound',\n",
       "  'bluetooth',\n",
       "  'turn',\n",
       "  'headset',\n",
       "  'call',\n",
       "  'ear',\n",
       "  'speaker',\n",
       "  'volume',\n",
       "  'comfortable',\n",
       "  'save'],\n",
       " 'Topic 11': ['color',\n",
       "  'top',\n",
       "  'fall',\n",
       "  'dress',\n",
       "  'wear',\n",
       "  'fit',\n",
       "  'box',\n",
       "  'show',\n",
       "  'within',\n",
       "  'short'],\n",
       " 'Topic 12': ['case',\n",
       "  'fit',\n",
       "  'phone',\n",
       "  'cover',\n",
       "  'iphone',\n",
       "  'protection',\n",
       "  'button',\n",
       "  'perfectly',\n",
       "  'port',\n",
       "  'plastic'],\n",
       " 'Topic 13': ['recommend',\n",
       "  'hydrate',\n",
       "  'highly',\n",
       "  'must',\n",
       "  'fresh',\n",
       "  'awesome',\n",
       "  'especially',\n",
       "  'refresh',\n",
       "  'cute',\n",
       "  'white'],\n",
       " 'Topic 14': ['not',\n",
       "  'do',\n",
       "  'like',\n",
       "  'good',\n",
       "  'well',\n",
       "  'work',\n",
       "  'really',\n",
       "  'would',\n",
       "  'look',\n",
       "  'make'],\n",
       " 'Topic 15': ['glow',\n",
       "  'hydrated',\n",
       "  'toner',\n",
       "  'care',\n",
       "  'foundation',\n",
       "  'purpose',\n",
       "  'set',\n",
       "  'continue',\n",
       "  'open',\n",
       "  'three']}"
      ]
     },
     "execution_count": 58,
     "metadata": {},
     "output_type": "execute_result"
    }
   ],
   "source": [
    "topics = lda_model.show_topics(num_topics=16, num_words=10, formatted=False)\n",
    "topic_keywords = {f\"Topic {i}\": [word for word, _ in words] for i, words in topics}\n",
    "topic_keywords"
   ]
  },
  {
   "cell_type": "markdown",
   "id": "178577da-8869-4f20-867e-51c133c5bb33",
   "metadata": {
    "id": "14d73230-f521-4dfb-b37f-3731b6586a4d"
   },
   "source": [
    "# Tagging themes "
   ]
  },
  {
   "cell_type": "markdown",
   "id": "c3ed08b1-1dfb-430c-8919-ad6ea5f9ac62",
   "metadata": {},
   "source": [
    "### Assign theme to reviews"
   ]
  },
  {
   "cell_type": "code",
   "execution_count": 59,
   "id": "3d5937da-1536-4623-a4b9-609f15b75ed4",
   "metadata": {},
   "outputs": [
    {
     "data": {
      "text/html": [
       "<div>\n",
       "<style scoped>\n",
       "    .dataframe tbody tr th:only-of-type {\n",
       "        vertical-align: middle;\n",
       "    }\n",
       "\n",
       "    .dataframe tbody tr th {\n",
       "        vertical-align: top;\n",
       "    }\n",
       "\n",
       "    .dataframe thead th {\n",
       "        text-align: right;\n",
       "    }\n",
       "</style>\n",
       "<table border=\"1\" class=\"dataframe\">\n",
       "  <thead>\n",
       "    <tr style=\"text-align: right;\">\n",
       "      <th></th>\n",
       "      <th>full_text</th>\n",
       "      <th>sentiments</th>\n",
       "      <th>compound</th>\n",
       "      <th>sentiment_type</th>\n",
       "      <th>cleaned_text</th>\n",
       "      <th>tokens</th>\n",
       "      <th>lemmas</th>\n",
       "    </tr>\n",
       "  </thead>\n",
       "  <tbody>\n",
       "    <tr>\n",
       "      <th>479857</th>\n",
       "      <td>skin better love wanted hate price keeper does...</td>\n",
       "      <td>{'neg': 0.219, 'neu': 0.54, 'pos': 0.24, 'comp...</td>\n",
       "      <td>0.2964</td>\n",
       "      <td>positive</td>\n",
       "      <td>skin better love wanted hate price keeper does...</td>\n",
       "      <td>[skin, better, love, wanted, hate, price, keep...</td>\n",
       "      <td>[skin, well, love, want, hate, price, keeper, ...</td>\n",
       "    </tr>\n",
       "    <tr>\n",
       "      <th>458777</th>\n",
       "      <td>read im gon na honest expecting little wowed f...</td>\n",
       "      <td>{'neg': 0.059, 'neu': 0.563, 'pos': 0.378, 'co...</td>\n",
       "      <td>0.9648</td>\n",
       "      <td>positive</td>\n",
       "      <td>read im gon na honest expecting little wowed f...</td>\n",
       "      <td>[read, im, gon, na, honest, expecting, little,...</td>\n",
       "      <td>[read, I, m, go, to, honest, expect, little, w...</td>\n",
       "    </tr>\n",
       "    <tr>\n",
       "      <th>81597</th>\n",
       "      <td>love love long cord cant stand short ones like...</td>\n",
       "      <td>{'neg': 0.0, 'neu': 0.456, 'pos': 0.544, 'comp...</td>\n",
       "      <td>0.9643</td>\n",
       "      <td>positive</td>\n",
       "      <td>love love long cord cant stand short ones like...</td>\n",
       "      <td>[love, love, long, cord, cant, stand, short, o...</td>\n",
       "      <td>[love, love, long, cord, can, not, stand, shor...</td>\n",
       "    </tr>\n",
       "    <tr>\n",
       "      <th>596330</th>\n",
       "      <td>good smell received product complimentary farm...</td>\n",
       "      <td>{'neg': 0.129, 'neu': 0.636, 'pos': 0.235, 'co...</td>\n",
       "      <td>0.8771</td>\n",
       "      <td>positive</td>\n",
       "      <td>good smell received product complimentary farm...</td>\n",
       "      <td>[good, smell, received, product, complimentary...</td>\n",
       "      <td>[good, smell, receive, product, complimentary,...</td>\n",
       "    </tr>\n",
       "    <tr>\n",
       "      <th>105916</th>\n",
       "      <td>pretty pretty dust plugger took long time get ...</td>\n",
       "      <td>{'neg': 0.257, 'neu': 0.338, 'pos': 0.405, 'co...</td>\n",
       "      <td>0.5423</td>\n",
       "      <td>positive</td>\n",
       "      <td>pretty pretty dust plugger took long time get ...</td>\n",
       "      <td>[pretty, pretty, dust, plugger, took, long, ti...</td>\n",
       "      <td>[pretty, pretty, dust, plugger, take, long, ti...</td>\n",
       "    </tr>\n",
       "  </tbody>\n",
       "</table>\n",
       "</div>"
      ],
      "text/plain": [
       "                                                full_text  \\\n",
       "479857  skin better love wanted hate price keeper does...   \n",
       "458777  read im gon na honest expecting little wowed f...   \n",
       "81597   love love long cord cant stand short ones like...   \n",
       "596330  good smell received product complimentary farm...   \n",
       "105916  pretty pretty dust plugger took long time get ...   \n",
       "\n",
       "                                               sentiments  compound  \\\n",
       "479857  {'neg': 0.219, 'neu': 0.54, 'pos': 0.24, 'comp...    0.2964   \n",
       "458777  {'neg': 0.059, 'neu': 0.563, 'pos': 0.378, 'co...    0.9648   \n",
       "81597   {'neg': 0.0, 'neu': 0.456, 'pos': 0.544, 'comp...    0.9643   \n",
       "596330  {'neg': 0.129, 'neu': 0.636, 'pos': 0.235, 'co...    0.8771   \n",
       "105916  {'neg': 0.257, 'neu': 0.338, 'pos': 0.405, 'co...    0.5423   \n",
       "\n",
       "       sentiment_type                                       cleaned_text  \\\n",
       "479857       positive  skin better love wanted hate price keeper does...   \n",
       "458777       positive  read im gon na honest expecting little wowed f...   \n",
       "81597        positive  love love long cord cant stand short ones like...   \n",
       "596330       positive  good smell received product complimentary farm...   \n",
       "105916       positive  pretty pretty dust plugger took long time get ...   \n",
       "\n",
       "                                                   tokens  \\\n",
       "479857  [skin, better, love, wanted, hate, price, keep...   \n",
       "458777  [read, im, gon, na, honest, expecting, little,...   \n",
       "81597   [love, love, long, cord, cant, stand, short, o...   \n",
       "596330  [good, smell, received, product, complimentary...   \n",
       "105916  [pretty, pretty, dust, plugger, took, long, ti...   \n",
       "\n",
       "                                                   lemmas  \n",
       "479857  [skin, well, love, want, hate, price, keeper, ...  \n",
       "458777  [read, I, m, go, to, honest, expect, little, w...  \n",
       "81597   [love, love, long, cord, can, not, stand, shor...  \n",
       "596330  [good, smell, receive, product, complimentary,...  \n",
       "105916  [pretty, pretty, dust, plugger, take, long, ti...  "
      ]
     },
     "execution_count": 59,
     "metadata": {},
     "output_type": "execute_result"
    }
   ],
   "source": [
    "subset_data.head()"
   ]
  },
  {
   "cell_type": "code",
   "execution_count": 60,
   "id": "058079fd-bcf0-4923-8f52-ce46be42eaa5",
   "metadata": {},
   "outputs": [],
   "source": [
    "# Function to assign theme based on dominant topic\n",
    "def assign_refined_theme(distribution, topic_to_theme_map):\n",
    "    # Gets the topic with the highest probability\n",
    "    dominant_topic = max(distribution, key=lambda x: x[1])[0]\n",
    "    # Map the dominant topic to the refined theme\n",
    "    return topic_to_theme_map.get(f\"Topic {dominant_topic}\", \"Unknown\")\n",
    "\n",
    "# Map the LDA topics to refined themes\n",
    "topic_to_theme_map = {\n",
    "    'Topic 0': 'Product Performance & Features',\n",
    "    'Topic 1': 'Phone Protection & Customization',\n",
    "    'Topic 2': 'Skin Care Journey & Acne Solutions',\n",
    "    'Topic 3': 'Customer Satisfaction',\n",
    "    'Topic 4': 'Value & Affordability',\n",
    "    'Topic 5': 'Skincare Effectiveness',\n",
    "    'Topic 6': 'Skincare Ingredients & Moisturization',\n",
    "    'Topic 7': 'Product Recommendations',\n",
    "    'Topic 8': 'Customer Satisfaction',\n",
    "    'Topic 9': 'Customer Satisfaction',\n",
    "    'Topic 10': 'Technology & Sound Quality',\n",
    "    'Topic 11': 'Phone Protection & Customization',\n",
    "    'Topic 12': 'Phone Protection & Customization',\n",
    "    'Topic 13': 'Product Recommendations',\n",
    "    'Topic 14': 'Customer Satisfaction',\n",
    "    'Topic 15': 'Skincare Effectiveness'\n",
    "}\n",
    "\n",
    "# Assign themes based on topic distributions\n",
    "topic_distributions = [lda_model.get_document_topics(doc) for doc in corpus]\n",
    "subset_data['assigned_theme'] = [assign_refined_theme(dist, topic_to_theme_map) for dist in topic_distributions]"
   ]
  },
  {
   "cell_type": "code",
   "execution_count": 61,
   "id": "2731dcf4-2200-40f9-b7d8-74a77ee8ba55",
   "metadata": {},
   "outputs": [
    {
     "data": {
      "text/html": [
       "<div>\n",
       "<style scoped>\n",
       "    .dataframe tbody tr th:only-of-type {\n",
       "        vertical-align: middle;\n",
       "    }\n",
       "\n",
       "    .dataframe tbody tr th {\n",
       "        vertical-align: top;\n",
       "    }\n",
       "\n",
       "    .dataframe thead th {\n",
       "        text-align: right;\n",
       "    }\n",
       "</style>\n",
       "<table border=\"1\" class=\"dataframe\">\n",
       "  <thead>\n",
       "    <tr style=\"text-align: right;\">\n",
       "      <th></th>\n",
       "      <th>full_text</th>\n",
       "      <th>assigned_theme</th>\n",
       "    </tr>\n",
       "  </thead>\n",
       "  <tbody>\n",
       "    <tr>\n",
       "      <th>479857</th>\n",
       "      <td>skin better love wanted hate price keeper does...</td>\n",
       "      <td>Customer Satisfaction</td>\n",
       "    </tr>\n",
       "    <tr>\n",
       "      <th>458777</th>\n",
       "      <td>read im gon na honest expecting little wowed f...</td>\n",
       "      <td>Skincare Effectiveness</td>\n",
       "    </tr>\n",
       "    <tr>\n",
       "      <th>81597</th>\n",
       "      <td>love love long cord cant stand short ones like...</td>\n",
       "      <td>Customer Satisfaction</td>\n",
       "    </tr>\n",
       "    <tr>\n",
       "      <th>596330</th>\n",
       "      <td>good smell received product complimentary farm...</td>\n",
       "      <td>Customer Satisfaction</td>\n",
       "    </tr>\n",
       "    <tr>\n",
       "      <th>105916</th>\n",
       "      <td>pretty pretty dust plugger took long time get ...</td>\n",
       "      <td>Customer Satisfaction</td>\n",
       "    </tr>\n",
       "  </tbody>\n",
       "</table>\n",
       "</div>"
      ],
      "text/plain": [
       "                                                full_text  \\\n",
       "479857  skin better love wanted hate price keeper does...   \n",
       "458777  read im gon na honest expecting little wowed f...   \n",
       "81597   love love long cord cant stand short ones like...   \n",
       "596330  good smell received product complimentary farm...   \n",
       "105916  pretty pretty dust plugger took long time get ...   \n",
       "\n",
       "                assigned_theme  \n",
       "479857   Customer Satisfaction  \n",
       "458777  Skincare Effectiveness  \n",
       "81597    Customer Satisfaction  \n",
       "596330   Customer Satisfaction  \n",
       "105916   Customer Satisfaction  "
      ]
     },
     "execution_count": 61,
     "metadata": {},
     "output_type": "execute_result"
    }
   ],
   "source": [
    "subset_data[['full_text', 'assigned_theme']].head()"
   ]
  },
  {
   "cell_type": "markdown",
   "id": "YfDQtB_yUViU",
   "metadata": {
    "id": "YfDQtB_yUViU"
   },
   "source": [
    "## Tokenization with Hugging Face Transformers"
   ]
  },
  {
   "cell_type": "code",
   "execution_count": 62,
   "id": "zB5laqrie5pi",
   "metadata": {
    "id": "zB5laqrie5pi"
   },
   "outputs": [],
   "source": [
    "# Load the pre-trained BART tokenizer\n",
    "tokenizer = BartTokenizer.from_pretrained(\"facebook/bart-large-cnn\")\n",
    "\n",
    "# Tokenize the 'full_text' for summarization\n",
    "def tokenize_function(examples):\n",
    "    return tokenizer(examples['full_text'], padding='max_length', truncation=True, max_length=512)\n",
    "\n",
    "# Tokenizing the 'full_text' in subset_data\n",
    "subset_data['tokenized'] = subset_data['full_text'].apply(lambda x: tokenizer(x, padding='max_length', truncation=True, max_length=512))"
   ]
  },
  {
   "cell_type": "code",
   "execution_count": 63,
   "id": "6b0357a6-a38a-4be4-9304-dcea85cf069e",
   "metadata": {},
   "outputs": [
    {
     "data": {
      "text/html": [
       "<div>\n",
       "<style scoped>\n",
       "    .dataframe tbody tr th:only-of-type {\n",
       "        vertical-align: middle;\n",
       "    }\n",
       "\n",
       "    .dataframe tbody tr th {\n",
       "        vertical-align: top;\n",
       "    }\n",
       "\n",
       "    .dataframe thead th {\n",
       "        text-align: right;\n",
       "    }\n",
       "</style>\n",
       "<table border=\"1\" class=\"dataframe\">\n",
       "  <thead>\n",
       "    <tr style=\"text-align: right;\">\n",
       "      <th></th>\n",
       "      <th>full_text</th>\n",
       "      <th>input_ids</th>\n",
       "      <th>attention_mask</th>\n",
       "    </tr>\n",
       "  </thead>\n",
       "  <tbody>\n",
       "    <tr>\n",
       "      <th>479857</th>\n",
       "      <td>skin better love wanted hate price keeper does...</td>\n",
       "      <td>[0, 33986, 357, 657, 770, 4157, 425, 13456, 47...</td>\n",
       "      <td>[1, 1, 1, 1, 1, 1, 1, 1, 1, 1, 1, 1, 1, 1, 1, ...</td>\n",
       "    </tr>\n",
       "    <tr>\n",
       "      <th>458777</th>\n",
       "      <td>read im gon na honest expecting little wowed f...</td>\n",
       "      <td>[0, 12745, 4356, 38197, 2750, 5322, 4804, 410,...</td>\n",
       "      <td>[1, 1, 1, 1, 1, 1, 1, 1, 1, 1, 1, 1, 1, 1, 1, ...</td>\n",
       "    </tr>\n",
       "    <tr>\n",
       "      <th>81597</th>\n",
       "      <td>love love long cord cant stand short ones like...</td>\n",
       "      <td>[0, 17693, 657, 251, 13051, 17672, 1413, 765, ...</td>\n",
       "      <td>[1, 1, 1, 1, 1, 1, 1, 1, 1, 1, 1, 1, 1, 1, 1, ...</td>\n",
       "    </tr>\n",
       "    <tr>\n",
       "      <th>596330</th>\n",
       "      <td>good smell received product complimentary farm...</td>\n",
       "      <td>[0, 8396, 11362, 829, 1152, 22310, 3380, 5073,...</td>\n",
       "      <td>[1, 1, 1, 1, 1, 1, 1, 1, 1, 1, 1, 1, 1, 1, 1, ...</td>\n",
       "    </tr>\n",
       "    <tr>\n",
       "      <th>105916</th>\n",
       "      <td>pretty pretty dust plugger took long time get ...</td>\n",
       "      <td>[0, 28674, 1256, 8402, 10242, 2403, 362, 251, ...</td>\n",
       "      <td>[1, 1, 1, 1, 1, 1, 1, 1, 1, 1, 1, 1, 1, 1, 1, ...</td>\n",
       "    </tr>\n",
       "  </tbody>\n",
       "</table>\n",
       "</div>"
      ],
      "text/plain": [
       "                                                full_text  \\\n",
       "479857  skin better love wanted hate price keeper does...   \n",
       "458777  read im gon na honest expecting little wowed f...   \n",
       "81597   love love long cord cant stand short ones like...   \n",
       "596330  good smell received product complimentary farm...   \n",
       "105916  pretty pretty dust plugger took long time get ...   \n",
       "\n",
       "                                                input_ids  \\\n",
       "479857  [0, 33986, 357, 657, 770, 4157, 425, 13456, 47...   \n",
       "458777  [0, 12745, 4356, 38197, 2750, 5322, 4804, 410,...   \n",
       "81597   [0, 17693, 657, 251, 13051, 17672, 1413, 765, ...   \n",
       "596330  [0, 8396, 11362, 829, 1152, 22310, 3380, 5073,...   \n",
       "105916  [0, 28674, 1256, 8402, 10242, 2403, 362, 251, ...   \n",
       "\n",
       "                                           attention_mask  \n",
       "479857  [1, 1, 1, 1, 1, 1, 1, 1, 1, 1, 1, 1, 1, 1, 1, ...  \n",
       "458777  [1, 1, 1, 1, 1, 1, 1, 1, 1, 1, 1, 1, 1, 1, 1, ...  \n",
       "81597   [1, 1, 1, 1, 1, 1, 1, 1, 1, 1, 1, 1, 1, 1, 1, ...  \n",
       "596330  [1, 1, 1, 1, 1, 1, 1, 1, 1, 1, 1, 1, 1, 1, 1, ...  \n",
       "105916  [1, 1, 1, 1, 1, 1, 1, 1, 1, 1, 1, 1, 1, 1, 1, ...  "
      ]
     },
     "execution_count": 63,
     "metadata": {},
     "output_type": "execute_result"
    }
   ],
   "source": [
    "# The resulting tokenized data will include the input IDs and attention masks\n",
    "subset_data['input_ids'] = subset_data['tokenized'].apply(lambda x: x['input_ids'])\n",
    "subset_data['attention_mask'] = subset_data['tokenized'].apply(lambda x: x['attention_mask'])\n",
    "\n",
    "subset_data[['full_text', 'input_ids', 'attention_mask']].head()"
   ]
  },
  {
   "cell_type": "code",
   "execution_count": 64,
   "id": "a8ee7fb2-7ffc-42af-a1de-af12f2833af8",
   "metadata": {
    "id": "a8ee7fb2-7ffc-42af-a1de-af12f2833af8"
   },
   "outputs": [
    {
     "name": "stdout",
     "output_type": "stream",
     "text": [
      "Processed data saved as 'processed_subset_data.csv'\n"
     ]
    }
   ],
   "source": [
    "# Save the processed subset_data to a CSV file\n",
    "#subset_data.to_csv('processed_subset_data.csv', index=False)\n",
    "\n",
    "#print(\"Processed data saved as 'processed_subset_data.csv'\")\n"
   ]
  }
 ],
 "metadata": {
  "accelerator": "GPU",
  "colab": {
   "gpuType": "T4",
   "provenance": []
  },
  "kernelspec": {
   "display_name": "Python 3 (ipykernel)",
   "language": "python",
   "name": "python3"
  },
  "language_info": {
   "codemirror_mode": {
    "name": "ipython",
    "version": 3
   },
   "file_extension": ".py",
   "mimetype": "text/x-python",
   "name": "python",
   "nbconvert_exporter": "python",
   "pygments_lexer": "ipython3",
   "version": "3.12.3"
  }
 },
 "nbformat": 4,
 "nbformat_minor": 5
}
